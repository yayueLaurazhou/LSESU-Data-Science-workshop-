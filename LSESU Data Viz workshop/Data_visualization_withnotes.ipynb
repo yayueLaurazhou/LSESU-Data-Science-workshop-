{
 "cells": [
  {
   "cell_type": "code",
   "execution_count": 6,
   "id": "e9340a5e",
   "metadata": {},
   "outputs": [
    {
     "ename": "ModuleNotFoundError",
     "evalue": "No module named 'plotly'",
     "output_type": "error",
     "traceback": [
      "\u001b[0;31m---------------------------------------------------------------------------\u001b[0m",
      "\u001b[0;31mModuleNotFoundError\u001b[0m                       Traceback (most recent call last)",
      "\u001b[0;32m/var/folders/8w/dm17jvs10x7g3k95h9hwdgnm0000gp/T/ipykernel_72316/1192404769.py\u001b[0m in \u001b[0;36m<module>\u001b[0;34m\u001b[0m\n\u001b[1;32m      2\u001b[0m \u001b[0;32mimport\u001b[0m \u001b[0mnumpy\u001b[0m \u001b[0;32mas\u001b[0m \u001b[0mnp\u001b[0m\u001b[0;34m\u001b[0m\u001b[0;34m\u001b[0m\u001b[0m\n\u001b[1;32m      3\u001b[0m \u001b[0;32mimport\u001b[0m \u001b[0mseaborn\u001b[0m \u001b[0;32mas\u001b[0m \u001b[0msns\u001b[0m\u001b[0;34m\u001b[0m\u001b[0;34m\u001b[0m\u001b[0m\n\u001b[0;32m----> 4\u001b[0;31m \u001b[0;32mimport\u001b[0m \u001b[0mplotly\u001b[0m\u001b[0;34m.\u001b[0m\u001b[0mexpress\u001b[0m \u001b[0;32mas\u001b[0m \u001b[0mpy\u001b[0m\u001b[0;34m\u001b[0m\u001b[0;34m\u001b[0m\u001b[0m\n\u001b[0m\u001b[1;32m      5\u001b[0m \u001b[0;32mimport\u001b[0m \u001b[0mmatplotlib\u001b[0m\u001b[0;34m.\u001b[0m\u001b[0mpyplot\u001b[0m \u001b[0;32mas\u001b[0m \u001b[0mplt\u001b[0m\u001b[0;34m\u001b[0m\u001b[0;34m\u001b[0m\u001b[0m\n",
      "\u001b[0;31mModuleNotFoundError\u001b[0m: No module named 'plotly'"
     ]
    }
   ],
   "source": [
    "import pandas as pd \n",
    "import numpy as np\n",
    "import seaborn as sns\n",
    "import plotly.express as py\n",
    "import matplotlib.pyplot as plt "
   ]
  },
  {
   "cell_type": "code",
   "execution_count": 7,
   "id": "f04a06ac",
   "metadata": {},
   "outputs": [],
   "source": [
    "hscore1 = pd.read_csv(\"2015.csv\")\n",
    "hscore2 = pd.read_csv(\"2016.csv\")\n",
    "hscore3 = pd.read_csv(\"2017.csv\")\n",
    "hscore4 = pd.read_csv(\"2018.csv\")\n",
    "hscore5 = pd.read_csv(\"2019.csv\")"
   ]
  },
  {
   "cell_type": "code",
   "execution_count": null,
   "id": "3ed4d36f",
   "metadata": {},
   "outputs": [],
   "source": [
    "hscore1.shape"
   ]
  },
  {
   "cell_type": "code",
   "execution_count": null,
   "id": "54072a5b",
   "metadata": {},
   "outputs": [],
   "source": [
    "hscore2.shape"
   ]
  },
  {
   "cell_type": "code",
   "execution_count": null,
   "id": "27509203",
   "metadata": {},
   "outputs": [],
   "source": [
    "# check that the shapes look reasonable after combining \n",
    "hscore = pd.merge(left=hscore1, right=hscore2, how=\"inner\",on='Country',suffixes = (\"_2015\", \"_2016\"))\n",
    "hscore.shape"
   ]
  },
  {
   "cell_type": "code",
   "execution_count": null,
   "id": "3a6f449a",
   "metadata": {},
   "outputs": [],
   "source": [
    "count_missing = hscore.isnull().sum()\n",
    "print(count_missing.sort_values(ascending = False))"
   ]
  },
  {
   "cell_type": "markdown",
   "id": "2548c980",
   "metadata": {},
   "source": [
    "Questions: Which region has the largest number of country surveyed?"
   ]
  },
  {
   "cell_type": "code",
   "execution_count": null,
   "id": "ac10e24a",
   "metadata": {},
   "outputs": [],
   "source": [
    "regions = hscore[\"Region_2015\"].value_counts()\n",
    "fig = py.pie(labels = regions.index, values = regions.values, title = \"The percentage of countries in each region\", names = regions.index)\n",
    "fig.show()"
   ]
  },
  {
   "cell_type": "code",
   "execution_count": null,
   "id": "d20ab05c",
   "metadata": {},
   "outputs": [],
   "source": [
    "fig = py.pie(labels = regions.index, values = regions.values, title = \"The percentage of countries in each region\", names = regions.index, hole = 0.7)\n",
    "fig.show()"
   ]
  },
  {
   "cell_type": "markdown",
   "id": "fbc3ecc6",
   "metadata": {},
   "source": [
    "Question 2: \"which region has is the lowest happiness score? which one is the highest?\""
   ]
  },
  {
   "cell_type": "code",
   "execution_count": null,
   "id": "12c7e476",
   "metadata": {},
   "outputs": [],
   "source": [
    "hscore[\"happiness_score_combined\"] = hscore[\"Happiness Score_2015\"] + hscore[\"Happiness Score_2016\"]\n",
    "means = hscore.pivot_table('happiness_score_combined', 'Region_2015', aggfunc=np.mean)\n",
    "means.plot(kind='barh', title='Mean Happiness Scores by Region', xlim=(0,20),legend = False)"
   ]
  },
  {
   "cell_type": "code",
   "execution_count": null,
   "id": "5ab0248a",
   "metadata": {
    "scrolled": true
   },
   "outputs": [],
   "source": [
    "years = [2015,2016,2017,2018,2019]\n",
    "\n",
    "def clean_col(col):\n",
    "    col = col.strip()\n",
    "    col = col.replace(\"(\",\"\")\n",
    "    col = col.replace(\")\",\"\")\n",
    "    col = col.replace(\" \",\"_\")\n",
    "    col = col.replace(\".\",\"_\")\n",
    "    col = col.lower()\n",
    "    return col\n",
    "\n",
    "df_combined = {}\n",
    "for a_year in years:\n",
    "    df = pd.read_csv(f\"{a_year}.csv\")\n",
    "    df['Year'] = int(a_year)\n",
    "    new_columns = []\n",
    "    for col in df.columns:\n",
    "        c= clean_col(col)\n",
    "        new_columns.append(c)\n",
    "    df.columns = new_columns \n",
    "    print(df.columns)\n",
    "    df_combined[a_year] = df    \n",
    "    \n",
    "df_combined[2018].rename({\"overall_rank\":\"happiness_rank\"}, axis= 1, inplace=True)  \n",
    "df_combined[2019].rename({\"overall_rank\":\"happiness_rank\"}, axis= 1, inplace=True)   \n",
    "\n",
    "df_combined[2018].rename({\"country_or_region\":\"country\"},axis= 1, inplace=True)\n",
    "df_combined[2019].rename({\"country_or_region\":\"country\"},axis= 1, inplace=True)\n",
    "\n",
    "df_combined[2018].rename({\"score\":\"happiness_score\"},axis= 1, inplace=True)\n",
    "df_combined[2019].rename({\"score\":\"happiness_score\"},axis= 1, inplace=True)\n",
    "\n",
    "df_combined[2015].rename({\"economy_gdp_per_capita\":\"gdp_per_capita\"},axis= 1, inplace=True)\n",
    "df_combined[2016].rename({\"economy_gdp_per_capita_\":\"gdp_per_capita\"},axis= 1, inplace=True)\n",
    "df_combined[2017].rename({\"economy_gdp_per_capita\":\"gdp_per_capita\"},axis= 1, inplace=True)\n",
    "    \n",
    "hscore_all = pd.concat(df_combined, ignore_index = True)\n",
    "hscore_all.sample(10)"
   ]
  },
  {
   "cell_type": "code",
   "execution_count": null,
   "id": "9561c584",
   "metadata": {},
   "outputs": [],
   "source": [
    "# Before plotting the line graph, one need to convert the string to datetime format\n",
    "hscore_all['year'] = pd.to_datetime(hscore_all['year'],format='%Y')\n",
    "hscore_all['year'] = hscore_all['year'].dt.year\n",
    "print(hscore_all['year'])"
   ]
  },
  {
   "cell_type": "markdown",
   "id": "8043b46d",
   "metadata": {},
   "source": [
    "Question 3: which countries have the top 5 highest happiness score in year 2019? "
   ]
  },
  {
   "cell_type": "code",
   "execution_count": null,
   "id": "9effefa4",
   "metadata": {},
   "outputs": [],
   "source": [
    "happiness_2019 = hscore_all[hscore_all['year'] == 2019]\n",
    "\n",
    "happiness_2019.sort_values(by = \"happiness_score\")\n",
    "\n",
    "top_5_2019 = happiness_2019.nlargest(5,\"happiness_score\")\n",
    "\n",
    "fig = py.bar(top_5_2019, x=\"country\",y=\"gdp_per_capita\",color =\"country\")\n",
    "fig.show()"
   ]
  },
  {
   "cell_type": "markdown",
   "id": "66d1499e",
   "metadata": {},
   "source": [
    "Comparing three countries on their happiness scores"
   ]
  },
  {
   "cell_type": "code",
   "execution_count": null,
   "id": "ed80055a",
   "metadata": {},
   "outputs": [],
   "source": [
    "countries_of_interest = ['United States', 'Singapore', 'South Korea']\n",
    "fig = py.bar(hscore_all[hscore_all['country'].isin(countries_of_interest)], \n",
    "              x=\"year\", \n",
    "              y=\"happiness_score\", \n",
    "              color='country', barmode =\"group\")\n",
    "fig.show()"
   ]
  },
  {
   "cell_type": "markdown",
   "id": "83966a86",
   "metadata": {},
   "source": [
    "Question 4: What is the distribution of happiness score?"
   ]
  },
  {
   "cell_type": "code",
   "execution_count": null,
   "id": "f927fa7b",
   "metadata": {},
   "outputs": [],
   "source": [
    "happiness_freq = hscore_all[\"happiness_score\"].value_counts(bins=10).sort_index \n",
    "plt.hist(hscore_all[\"happiness_score\"], bins= 20)"
   ]
  },
  {
   "cell_type": "code",
   "execution_count": null,
   "id": "cf0c0b43",
   "metadata": {},
   "outputs": [],
   "source": [
    "# See what are the countries avaliable in the data set, choose a country of interest \n",
    "print(hscore_all[\"country\"].unique())\n",
    "counts = hscore_all[\"country\"].value_counts().to_dict()\n",
    "counts[\"Finland\"]"
   ]
  },
  {
   "cell_type": "code",
   "execution_count": null,
   "id": "3f5988f0",
   "metadata": {},
   "outputs": [],
   "source": [
    "# Plot a country's happiness score overtime "
   ]
  },
  {
   "cell_type": "code",
   "execution_count": null,
   "id": "732e1ae6",
   "metadata": {},
   "outputs": [],
   "source": [
    "country_of_interest = \"China\"\n",
    "china = hscore_all[hscore_all[\"country\"] == \"China\"]\n",
    "print(china[\"happiness_score\"])"
   ]
  },
  {
   "cell_type": "code",
   "execution_count": null,
   "id": "14f7bb1b",
   "metadata": {},
   "outputs": [],
   "source": [
    "plt.figure(figsize=(10,5))\n",
    "plt.xticks(fontsize=14, rotation=45)\n",
    "plt.yticks(fontsize=14)\n",
    "plt.xlabel('Year', fontsize=14)\n",
    "plt.ylabel('China', fontsize=14)\n",
    "plt.ylim(0, 10)\n",
    "plt.title(\"Change of China's happiness score over time\")\n",
    "plt.plot(china[\"year\"], china[\"happiness_score\"])"
   ]
  },
  {
   "cell_type": "code",
   "execution_count": null,
   "id": "dfc39283",
   "metadata": {},
   "outputs": [],
   "source": [
    "country_of_interest = \"Israel\"\n",
    "Israel= hscore_all[hscore_all[\"country\"] == \"Iceland\"]\n",
    "print(Israel[\"happiness_score\"])"
   ]
  },
  {
   "cell_type": "code",
   "execution_count": null,
   "id": "a03cb2e7",
   "metadata": {},
   "outputs": [],
   "source": [
    "plt.figure(figsize=(10,5))\n",
    "plt.xticks(fontsize=14, rotation=45)\n",
    "plt.yticks(fontsize=14)\n",
    "plt.xlabel('Year', fontsize=14)\n",
    "plt.ylabel('Happiness score', fontsize=14)\n",
    "plt.ylim(0, 10)\n",
    "plt.title(\"Change of happiness score over time\")\n",
    "plt.plot(china[\"year\"], china[\"happiness_score\"],label = \"China\")\n",
    "plt.plot(Israel[\"year\"], Israel[\"happiness_score\"],label = \"Israel\")\n",
    "plt.legend()\n",
    "plt.show()"
   ]
  },
  {
   "cell_type": "code",
   "execution_count": null,
   "id": "75b58d00",
   "metadata": {},
   "outputs": [],
   "source": [
    "# What is the relationship between gdp and happiness score?"
   ]
  },
  {
   "cell_type": "code",
   "execution_count": null,
   "id": "d0cc6d4e",
   "metadata": {},
   "outputs": [],
   "source": [
    "hscore_all[\"happiness_score\"].corr(hscore_all[\"gdp_per_capita\"])"
   ]
  },
  {
   "cell_type": "code",
   "execution_count": null,
   "id": "01406732",
   "metadata": {},
   "outputs": [],
   "source": [
    "plt.scatter(hscore_all['gdp_per_capita'], hscore_all['happiness_score'])"
   ]
  },
  {
   "cell_type": "code",
   "execution_count": null,
   "id": "ebad9a28",
   "metadata": {},
   "outputs": [],
   "source": [
    "plt.scatter(hscore_all['gdp_per_capita'], hscore_all['happiness_score'])\n",
    "plt.xlabel('gdp_per_capita')\n",
    "plt.ylabel('happiness_score')\n",
    "plt.show()"
   ]
  },
  {
   "cell_type": "code",
   "execution_count": null,
   "id": "9dc64637",
   "metadata": {},
   "outputs": [],
   "source": [
    "sns.heatmap(data = hscore_all[['happiness_score', 'gdp_per_capita',\n",
    "                                     'social_support', 'healthy_life_expectancy',\n",
    "                                     'freedom_to_make_life_choices', 'generosity',\n",
    "                                     'perceptions_of_corruption']].corr() , annot = True)"
   ]
  },
  {
   "cell_type": "code",
   "execution_count": null,
   "id": "1b96ed97",
   "metadata": {},
   "outputs": [],
   "source": []
  }
 ],
 "metadata": {
  "kernelspec": {
   "display_name": "Python 3 (ipykernel)",
   "language": "python",
   "name": "python3"
  },
  "language_info": {
   "codemirror_mode": {
    "name": "ipython",
    "version": 3
   },
   "file_extension": ".py",
   "mimetype": "text/x-python",
   "name": "python",
   "nbconvert_exporter": "python",
   "pygments_lexer": "ipython3",
   "version": "3.9.7"
  }
 },
 "nbformat": 4,
 "nbformat_minor": 5
}
