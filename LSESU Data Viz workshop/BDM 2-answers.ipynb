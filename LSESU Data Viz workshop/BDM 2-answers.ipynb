{
 "cells": [
  {
   "cell_type": "markdown",
   "metadata": {
    "id": "5OGQyoYL7Fa5"
   },
   "source": [
    "# **BDM 2**\n",
    "\n",
    "**Please \"Save A Copy\" in your google drive and work with your own copy**"
   ]
  },
  {
   "cell_type": "markdown",
   "metadata": {
    "id": "6O9_op1zh70e"
   },
   "source": [
    "# Python Visualization\n",
    "\n",
    "2.5 quintillion bytes of data are created everyday. Naturally, it is impossible for a human to process all this data on our own. \n",
    "\n",
    "In order to use all this data to make decisions in a timely fashion, we need to aggregate data into charts and visualizations. \n",
    "\n",
    "Good visualizations are often the determining factor as to whether we make the right (or better) decisions, and hep reduce confusion, boost messaging and save time. \n",
    "\n",
    "In this notebook we will be learning how to visualize data CLEARLY using a python engine. \n",
    "\n",
    "To do so, we will be mainly utilising the software library known as **Plotly Express**."
   ]
  },
  {
   "cell_type": "markdown",
   "metadata": {
    "id": "q196NokDpjlV"
   },
   "source": [
    "## Install packages, Mount Drive & Import relevant libraries\n",
    "\n"
   ]
  },
  {
   "cell_type": "code",
   "execution_count": 12,
   "metadata": {
    "colab": {
     "base_uri": "https://localhost:8080/",
     "height": 1000
    },
    "executionInfo": {
     "elapsed": 23539,
     "status": "ok",
     "timestamp": 1627912839830,
     "user": {
      "displayName": "Jh Ke",
      "photoUrl": "",
      "userId": "01967339312869766379"
     },
     "user_tz": -480
    },
    "id": "DeT1wFT1lD5V",
    "outputId": "db9a2073-da06-40bc-a862-db35f3b03e87"
   },
   "outputs": [
    {
     "name": "stdout",
     "output_type": "stream",
     "text": [
      "Requirement already satisfied: plotly==4.8 in /Users/laura/opt/anaconda3/lib/python3.8/site-packages (4.8.0)\n",
      "Requirement already satisfied: retrying>=1.3.3 in /Users/laura/opt/anaconda3/lib/python3.8/site-packages (from plotly==4.8) (1.3.3)\n",
      "Requirement already satisfied: six in /Users/laura/opt/anaconda3/lib/python3.8/site-packages (from plotly==4.8) (1.16.0)\n",
      "Requirement already satisfied: swifter in /Users/laura/opt/anaconda3/lib/python3.8/site-packages (1.0.9)\n",
      "Requirement already satisfied: psutil>=5.6.6 in /Users/laura/opt/anaconda3/lib/python3.8/site-packages (from swifter) (5.8.0)\n",
      "Requirement already satisfied: ipywidgets>=7.0.0 in /Users/laura/opt/anaconda3/lib/python3.8/site-packages (from swifter) (7.6.4)\n",
      "Requirement already satisfied: parso>0.4.0 in /Users/laura/opt/anaconda3/lib/python3.8/site-packages (from swifter) (0.7.0)\n",
      "Requirement already satisfied: bleach>=3.1.1 in /Users/laura/opt/anaconda3/lib/python3.8/site-packages (from swifter) (4.0.0)\n",
      "Requirement already satisfied: dask[dataframe]>=2.10.0 in /Users/laura/opt/anaconda3/lib/python3.8/site-packages (from swifter) (2021.8.1)\n",
      "Requirement already satisfied: cloudpickle>=0.2.2 in /Users/laura/opt/anaconda3/lib/python3.8/site-packages (from swifter) (2.0.0)\n",
      "Requirement already satisfied: tqdm>=4.33.0 in /Users/laura/opt/anaconda3/lib/python3.8/site-packages (from swifter) (4.62.2)\n",
      "Requirement already satisfied: pandas>=1.0.0 in /Users/laura/opt/anaconda3/lib/python3.8/site-packages (from swifter) (1.3.3)\n",
      "Requirement already satisfied: packaging in /Users/laura/opt/anaconda3/lib/python3.8/site-packages (from bleach>=3.1.1->swifter) (21.0)\n",
      "Requirement already satisfied: six>=1.9.0 in /Users/laura/opt/anaconda3/lib/python3.8/site-packages (from bleach>=3.1.1->swifter) (1.16.0)\n",
      "Requirement already satisfied: webencodings in /Users/laura/opt/anaconda3/lib/python3.8/site-packages (from bleach>=3.1.1->swifter) (0.5.1)\n",
      "Requirement already satisfied: partd>=0.3.10 in /Users/laura/opt/anaconda3/lib/python3.8/site-packages (from dask[dataframe]>=2.10.0->swifter) (1.2.0)\n",
      "Requirement already satisfied: toolz>=0.8.2 in /Users/laura/opt/anaconda3/lib/python3.8/site-packages (from dask[dataframe]>=2.10.0->swifter) (0.11.1)\n",
      "Requirement already satisfied: pyyaml in /Users/laura/opt/anaconda3/lib/python3.8/site-packages (from dask[dataframe]>=2.10.0->swifter) (5.4.1)\n",
      "Requirement already satisfied: fsspec>=0.6.0 in /Users/laura/opt/anaconda3/lib/python3.8/site-packages (from dask[dataframe]>=2.10.0->swifter) (2021.8.1)\n",
      "Requirement already satisfied: numpy>=1.18 in /Users/laura/opt/anaconda3/lib/python3.8/site-packages (from dask[dataframe]>=2.10.0->swifter) (1.20.3)\n",
      "Requirement already satisfied: widgetsnbextension~=3.5.0 in /Users/laura/opt/anaconda3/lib/python3.8/site-packages (from ipywidgets>=7.0.0->swifter) (3.5.1)\n",
      "Requirement already satisfied: ipython>=4.0.0 in /Users/laura/opt/anaconda3/lib/python3.8/site-packages (from ipywidgets>=7.0.0->swifter) (7.27.0)\n",
      "Requirement already satisfied: traitlets>=4.3.1 in /Users/laura/opt/anaconda3/lib/python3.8/site-packages (from ipywidgets>=7.0.0->swifter) (5.1.0)\n",
      "Requirement already satisfied: nbformat>=4.2.0 in /Users/laura/opt/anaconda3/lib/python3.8/site-packages (from ipywidgets>=7.0.0->swifter) (5.1.3)\n",
      "Requirement already satisfied: ipython-genutils~=0.2.0 in /Users/laura/opt/anaconda3/lib/python3.8/site-packages (from ipywidgets>=7.0.0->swifter) (0.2.0)\n",
      "Requirement already satisfied: jupyterlab-widgets>=1.0.0 in /Users/laura/opt/anaconda3/lib/python3.8/site-packages (from ipywidgets>=7.0.0->swifter) (1.0.0)\n",
      "Requirement already satisfied: ipykernel>=4.5.1 in /Users/laura/opt/anaconda3/lib/python3.8/site-packages (from ipywidgets>=7.0.0->swifter) (6.2.0)\n",
      "Requirement already satisfied: tornado<7.0,>=4.2 in /Users/laura/opt/anaconda3/lib/python3.8/site-packages (from ipykernel>=4.5.1->ipywidgets>=7.0.0->swifter) (6.1)\n",
      "Requirement already satisfied: debugpy<2.0,>=1.0.0 in /Users/laura/opt/anaconda3/lib/python3.8/site-packages (from ipykernel>=4.5.1->ipywidgets>=7.0.0->swifter) (1.4.1)\n",
      "Requirement already satisfied: jupyter-client<8.0 in /Users/laura/opt/anaconda3/lib/python3.8/site-packages (from ipykernel>=4.5.1->ipywidgets>=7.0.0->swifter) (7.0.1)\n",
      "Requirement already satisfied: appnope in /Users/laura/opt/anaconda3/lib/python3.8/site-packages (from ipykernel>=4.5.1->ipywidgets>=7.0.0->swifter) (0.1.2)\n",
      "Requirement already satisfied: matplotlib-inline<0.2.0,>=0.1.0 in /Users/laura/opt/anaconda3/lib/python3.8/site-packages (from ipykernel>=4.5.1->ipywidgets>=7.0.0->swifter) (0.1.2)\n",
      "Requirement already satisfied: prompt-toolkit!=3.0.0,!=3.0.1,<3.1.0,>=2.0.0 in /Users/laura/opt/anaconda3/lib/python3.8/site-packages (from ipython>=4.0.0->ipywidgets>=7.0.0->swifter) (3.0.17)\n",
      "Requirement already satisfied: jedi>=0.16 in /Users/laura/opt/anaconda3/lib/python3.8/site-packages (from ipython>=4.0.0->ipywidgets>=7.0.0->swifter) (0.17.2)\n",
      "Requirement already satisfied: pickleshare in /Users/laura/opt/anaconda3/lib/python3.8/site-packages (from ipython>=4.0.0->ipywidgets>=7.0.0->swifter) (0.7.5)\n",
      "Requirement already satisfied: backcall in /Users/laura/opt/anaconda3/lib/python3.8/site-packages (from ipython>=4.0.0->ipywidgets>=7.0.0->swifter) (0.2.0)\n",
      "Requirement already satisfied: setuptools>=18.5 in /Users/laura/opt/anaconda3/lib/python3.8/site-packages (from ipython>=4.0.0->ipywidgets>=7.0.0->swifter) (58.0.4)\n",
      "Requirement already satisfied: decorator in /Users/laura/opt/anaconda3/lib/python3.8/site-packages (from ipython>=4.0.0->ipywidgets>=7.0.0->swifter) (5.1.0)\n",
      "Requirement already satisfied: pygments in /Users/laura/opt/anaconda3/lib/python3.8/site-packages (from ipython>=4.0.0->ipywidgets>=7.0.0->swifter) (2.10.0)\n",
      "Requirement already satisfied: pexpect>4.3 in /Users/laura/opt/anaconda3/lib/python3.8/site-packages (from ipython>=4.0.0->ipywidgets>=7.0.0->swifter) (4.8.0)\n",
      "Requirement already satisfied: entrypoints in /Users/laura/opt/anaconda3/lib/python3.8/site-packages (from jupyter-client<8.0->ipykernel>=4.5.1->ipywidgets>=7.0.0->swifter) (0.3)\n",
      "Requirement already satisfied: python-dateutil>=2.1 in /Users/laura/opt/anaconda3/lib/python3.8/site-packages (from jupyter-client<8.0->ipykernel>=4.5.1->ipywidgets>=7.0.0->swifter) (2.8.2)\n",
      "Requirement already satisfied: jupyter-core>=4.6.0 in /Users/laura/opt/anaconda3/lib/python3.8/site-packages (from jupyter-client<8.0->ipykernel>=4.5.1->ipywidgets>=7.0.0->swifter) (4.7.1)\n",
      "Requirement already satisfied: pyzmq>=13 in /Users/laura/opt/anaconda3/lib/python3.8/site-packages (from jupyter-client<8.0->ipykernel>=4.5.1->ipywidgets>=7.0.0->swifter) (22.2.1)\n",
      "Requirement already satisfied: nest-asyncio>=1.5 in /Users/laura/opt/anaconda3/lib/python3.8/site-packages (from jupyter-client<8.0->ipykernel>=4.5.1->ipywidgets>=7.0.0->swifter) (1.5.1)\n",
      "Requirement already satisfied: jsonschema!=2.5.0,>=2.4 in /Users/laura/opt/anaconda3/lib/python3.8/site-packages (from nbformat>=4.2.0->ipywidgets>=7.0.0->swifter) (3.2.0)\n",
      "Requirement already satisfied: attrs>=17.4.0 in /Users/laura/opt/anaconda3/lib/python3.8/site-packages (from jsonschema!=2.5.0,>=2.4->nbformat>=4.2.0->ipywidgets>=7.0.0->swifter) (21.2.0)\n",
      "Requirement already satisfied: pyrsistent>=0.14.0 in /Users/laura/opt/anaconda3/lib/python3.8/site-packages (from jsonschema!=2.5.0,>=2.4->nbformat>=4.2.0->ipywidgets>=7.0.0->swifter) (0.17.3)\n",
      "Requirement already satisfied: pyparsing>=2.0.2 in /Users/laura/opt/anaconda3/lib/python3.8/site-packages (from packaging->bleach>=3.1.1->swifter) (2.4.7)\n",
      "Requirement already satisfied: pytz>=2017.3 in /Users/laura/opt/anaconda3/lib/python3.8/site-packages (from pandas>=1.0.0->swifter) (2021.1)\n",
      "Requirement already satisfied: locket in /Users/laura/opt/anaconda3/lib/python3.8/site-packages/locket-0.2.1-py3.8.egg (from partd>=0.3.10->dask[dataframe]>=2.10.0->swifter) (0.2.1)\n",
      "Requirement already satisfied: ptyprocess>=0.5 in /Users/laura/opt/anaconda3/lib/python3.8/site-packages (from pexpect>4.3->ipython>=4.0.0->ipywidgets>=7.0.0->swifter) (0.7.0)\n",
      "Requirement already satisfied: wcwidth in /Users/laura/opt/anaconda3/lib/python3.8/site-packages (from prompt-toolkit!=3.0.0,!=3.0.1,<3.1.0,>=2.0.0->ipython>=4.0.0->ipywidgets>=7.0.0->swifter) (0.2.5)\n"
     ]
    },
    {
     "name": "stdout",
     "output_type": "stream",
     "text": [
      "Requirement already satisfied: notebook>=4.4.1 in /Users/laura/opt/anaconda3/lib/python3.8/site-packages (from widgetsnbextension~=3.5.0->ipywidgets>=7.0.0->swifter) (6.4.3)\n",
      "Requirement already satisfied: terminado>=0.8.3 in /Users/laura/opt/anaconda3/lib/python3.8/site-packages (from notebook>=4.4.1->widgetsnbextension~=3.5.0->ipywidgets>=7.0.0->swifter) (0.9.4)\n",
      "Requirement already satisfied: prometheus-client in /Users/laura/opt/anaconda3/lib/python3.8/site-packages (from notebook>=4.4.1->widgetsnbextension~=3.5.0->ipywidgets>=7.0.0->swifter) (0.11.0)\n",
      "Requirement already satisfied: jinja2 in /Users/laura/opt/anaconda3/lib/python3.8/site-packages (from notebook>=4.4.1->widgetsnbextension~=3.5.0->ipywidgets>=7.0.0->swifter) (2.11.3)\n",
      "Requirement already satisfied: argon2-cffi in /Users/laura/opt/anaconda3/lib/python3.8/site-packages (from notebook>=4.4.1->widgetsnbextension~=3.5.0->ipywidgets>=7.0.0->swifter) (20.1.0)\n",
      "Requirement already satisfied: nbconvert in /Users/laura/opt/anaconda3/lib/python3.8/site-packages (from notebook>=4.4.1->widgetsnbextension~=3.5.0->ipywidgets>=7.0.0->swifter) (6.1.0)\n",
      "Requirement already satisfied: Send2Trash>=1.5.0 in /Users/laura/opt/anaconda3/lib/python3.8/site-packages (from notebook>=4.4.1->widgetsnbextension~=3.5.0->ipywidgets>=7.0.0->swifter) (1.8.0)\n",
      "Requirement already satisfied: cffi>=1.0.0 in /Users/laura/opt/anaconda3/lib/python3.8/site-packages (from argon2-cffi->notebook>=4.4.1->widgetsnbextension~=3.5.0->ipywidgets>=7.0.0->swifter) (1.14.6)\n",
      "Requirement already satisfied: pycparser in /Users/laura/opt/anaconda3/lib/python3.8/site-packages (from cffi>=1.0.0->argon2-cffi->notebook>=4.4.1->widgetsnbextension~=3.5.0->ipywidgets>=7.0.0->swifter) (2.20)\n",
      "Requirement already satisfied: MarkupSafe>=0.23 in /Users/laura/opt/anaconda3/lib/python3.8/site-packages (from jinja2->notebook>=4.4.1->widgetsnbextension~=3.5.0->ipywidgets>=7.0.0->swifter) (2.0.1)\n",
      "Requirement already satisfied: jupyterlab-pygments in /Users/laura/opt/anaconda3/lib/python3.8/site-packages (from nbconvert->notebook>=4.4.1->widgetsnbextension~=3.5.0->ipywidgets>=7.0.0->swifter) (0.1.2)\n",
      "Requirement already satisfied: pandocfilters>=1.4.1 in /Users/laura/opt/anaconda3/lib/python3.8/site-packages (from nbconvert->notebook>=4.4.1->widgetsnbextension~=3.5.0->ipywidgets>=7.0.0->swifter) (1.4.3)\n",
      "Requirement already satisfied: defusedxml in /Users/laura/opt/anaconda3/lib/python3.8/site-packages (from nbconvert->notebook>=4.4.1->widgetsnbextension~=3.5.0->ipywidgets>=7.0.0->swifter) (0.7.1)\n",
      "Requirement already satisfied: testpath in /Users/laura/opt/anaconda3/lib/python3.8/site-packages (from nbconvert->notebook>=4.4.1->widgetsnbextension~=3.5.0->ipywidgets>=7.0.0->swifter) (0.5.0)\n",
      "Requirement already satisfied: nbclient<0.6.0,>=0.5.0 in /Users/laura/opt/anaconda3/lib/python3.8/site-packages (from nbconvert->notebook>=4.4.1->widgetsnbextension~=3.5.0->ipywidgets>=7.0.0->swifter) (0.5.3)\n",
      "Requirement already satisfied: mistune<2,>=0.8.1 in /Users/laura/opt/anaconda3/lib/python3.8/site-packages (from nbconvert->notebook>=4.4.1->widgetsnbextension~=3.5.0->ipywidgets>=7.0.0->swifter) (0.8.4)\n",
      "Requirement already satisfied: async-generator in /Users/laura/opt/anaconda3/lib/python3.8/site-packages (from nbclient<0.6.0,>=0.5.0->nbconvert->notebook>=4.4.1->widgetsnbextension~=3.5.0->ipywidgets>=7.0.0->swifter) (1.10)\n"
     ]
    }
   ],
   "source": [
    "# pip install new version of plotly & swifter package\n",
    "# even though plotly is already available in colab, \n",
    "# we want to use the newer version because stacked bars will be easier to implement\n",
    "# swifter is a package that will speed up the apply() function in pandas\n",
    "!pip3 install plotly==4.8\n",
    "!pip3 install swifter\n",
    "\n",
    "# you will be asked to restart runtime after installation"
   ]
  },
  {
   "cell_type": "code",
   "execution_count": 13,
   "metadata": {
    "colab": {
     "base_uri": "https://localhost:8080/"
    },
    "executionInfo": {
     "elapsed": 16639,
     "status": "ok",
     "timestamp": 1635327045879,
     "user": {
      "displayName": "Jh Ke",
      "photoUrl": "https://lh3.googleusercontent.com/a/default-user=s64",
      "userId": "01967339312869766379"
     },
     "user_tz": -480
    },
    "id": "v-UpL0c0EPHW",
    "outputId": "eb895d80-f38f-4eef-cd6e-1b3b65791a3d"
   },
   "outputs": [
    {
     "ename": "ModuleNotFoundError",
     "evalue": "No module named 'google'",
     "output_type": "error",
     "traceback": [
      "\u001b[0;31m---------------------------------------------------------------------------\u001b[0m",
      "\u001b[0;31mModuleNotFoundError\u001b[0m                       Traceback (most recent call last)",
      "\u001b[0;32m/var/folders/7m/m9v_h3jd0p15h080gtdmfvrr0000gp/T/ipykernel_3720/1579272386.py\u001b[0m in \u001b[0;36m<module>\u001b[0;34m\u001b[0m\n\u001b[0;32m----> 1\u001b[0;31m \u001b[0;32mfrom\u001b[0m \u001b[0mgoogle\u001b[0m\u001b[0;34m.\u001b[0m\u001b[0mcolab\u001b[0m \u001b[0;32mimport\u001b[0m \u001b[0mdrive\u001b[0m\u001b[0;34m\u001b[0m\u001b[0;34m\u001b[0m\u001b[0m\n\u001b[0m\u001b[1;32m      2\u001b[0m \u001b[0mdrive\u001b[0m\u001b[0;34m.\u001b[0m\u001b[0mmount\u001b[0m\u001b[0;34m(\u001b[0m\u001b[0;34m'/content/drive'\u001b[0m\u001b[0;34m,\u001b[0m \u001b[0mforce_remount\u001b[0m \u001b[0;34m=\u001b[0m \u001b[0;32mTrue\u001b[0m\u001b[0;34m)\u001b[0m\u001b[0;34m\u001b[0m\u001b[0;34m\u001b[0m\u001b[0m\n",
      "\u001b[0;31mModuleNotFoundError\u001b[0m: No module named 'google'"
     ]
    }
   ],
   "source": [
    "from google.colab import drive\n",
    "drive.mount('/content/drive', force_remount = True)"
   ]
  },
  {
   "cell_type": "code",
   "execution_count": null,
   "metadata": {
    "executionInfo": {
     "elapsed": 1420,
     "status": "ok",
     "timestamp": 1635327027148,
     "user": {
      "displayName": "Jh Ke",
      "photoUrl": "https://lh3.googleusercontent.com/a/default-user=s64",
      "userId": "01967339312869766379"
     },
     "user_tz": -480
    },
    "id": "vjxbV_ajppkj"
   },
   "outputs": [],
   "source": [
    "# import the packages and check their versions\n",
    "import numpy as np\n",
    "import scipy\n",
    "\n",
    "# import data reading\n",
    "import pandas as pd\n",
    "\n",
    "# import plotly express for graphing\n",
    "import plotly.express as px\n",
    "\n"
   ]
  },
  {
   "cell_type": "code",
   "execution_count": null,
   "metadata": {
    "colab": {
     "base_uri": "https://localhost:8080/"
    },
    "executionInfo": {
     "elapsed": 333,
     "status": "ok",
     "timestamp": 1627912908927,
     "user": {
      "displayName": "Jh Ke",
      "photoUrl": "",
      "userId": "01967339312869766379"
     },
     "user_tz": -480
    },
    "id": "823q5tUiK6fw",
    "outputId": "9862cf18-a411-4d5c-d61f-e280734a2f77"
   },
   "outputs": [],
   "source": [
    "# check python version\n",
    "import sys\n",
    "print(f'The python version is {sys.version}')"
   ]
  },
  {
   "cell_type": "code",
   "execution_count": null,
   "metadata": {
    "colab": {
     "base_uri": "https://localhost:8080/"
    },
    "executionInfo": {
     "elapsed": 350,
     "status": "ok",
     "timestamp": 1635327050837,
     "user": {
      "displayName": "Jh Ke",
      "photoUrl": "https://lh3.googleusercontent.com/a/default-user=s64",
      "userId": "01967339312869766379"
     },
     "user_tz": -480
    },
    "id": "UqNqV3_aMYE1",
    "outputId": "ee3af8da-698d-4c73-b0c1-7f5ff8c2462c"
   },
   "outputs": [],
   "source": [
    "# to check versions of plotly package\n",
    "import plotly\n",
    "print(f'plotly express version is {plotly.__version__}')"
   ]
  },
  {
   "cell_type": "markdown",
   "metadata": {
    "id": "yATQrcX5tRo0"
   },
   "source": [
    "## Retrieve Data\n",
    "\n",
    "The data is stored in 3BDM inside our data folder.\n",
    "\n",
    "**The data used can be found here:**\n",
    "https://www.kaggle.com/unsdsn/world-happiness"
   ]
  },
  {
   "cell_type": "code",
   "execution_count": null,
   "metadata": {
    "colab": {
     "base_uri": "https://localhost:8080/"
    },
    "executionInfo": {
     "elapsed": 953,
     "status": "ok",
     "timestamp": 1635327060436,
     "user": {
      "displayName": "Jh Ke",
      "photoUrl": "https://lh3.googleusercontent.com/a/default-user=s64",
      "userId": "01967339312869766379"
     },
     "user_tz": -480
    },
    "id": "hWr2V_Xf4VPS",
    "outputId": "1cb252f9-b394-460f-efc6-f882c0b367eb"
   },
   "outputs": [],
   "source": [
    "#First, let's get the data we need\n",
    "folder_path = '/content/drive/MyDrive/pcml_data/3BDM'\n",
    "file_name = '2018.csv'\n",
    "\n",
    "happy18_df = pd.read_csv(folder_path + '/' + file_name)\n",
    "\n",
    "happy18_df.columns #Use this to see the column names. It's important to get the column name correct or the code won't be able to run!"
   ]
  },
  {
   "cell_type": "code",
   "execution_count": null,
   "metadata": {
    "colab": {
     "base_uri": "https://localhost:8080/",
     "height": 223
    },
    "executionInfo": {
     "elapsed": 4,
     "status": "ok",
     "timestamp": 1635327060893,
     "user": {
      "displayName": "Jh Ke",
      "photoUrl": "https://lh3.googleusercontent.com/a/default-user=s64",
      "userId": "01967339312869766379"
     },
     "user_tz": -480
    },
    "id": "GfNqI-jZ7WMj",
    "outputId": "4842f02e-be8f-47e3-d98f-14458762297a"
   },
   "outputs": [],
   "source": [
    "happy18_df.head()"
   ]
  },
  {
   "cell_type": "markdown",
   "metadata": {
    "id": "V4EHm6WVtMrS"
   },
   "source": [
    "## Data Cleaning\n",
    "\n",
    "The first step towards data cleaning is to observe how the data is being arranged. This means that we check the columns for consistency, we look at the data points for sanity check, we check the dataset on how detailed it is and if it can answer our analysis.\n",
    "\n",
    "Now if we look at our data we will see that there are some problems:\n",
    "\n",
    "#### **Problem 1:**\n",
    "\n",
    "Column labels are different - in 2016 & 2017 data - ***Social Support*** while in 2018 & 2019 data - ***Social support***\n",
    "\n",
    "#### **Problem 2:**\n",
    "\n",
    "Column labels have spacings between them and this will limit the way how we can call our columns subsequently. A good habit would be to replace all the spaces with underscores.\n",
    "\n",
    "#### **Problem 3:**\n",
    "\n",
    "There are 4 separate dataframes separated by the year the survey was done. We would need to join them up together into a single coherent dataframe for analysis.\n",
    "\n",
    "#### **Problem 4:**\n",
    "\n",
    "While all our dataframes are joined into a single dataframe, we lose the most important component - **the year in which these results were recorded**. Our analysis of the happiness index would be incomplete if we do not know the year in which these records were created.\n",
    "\n",
    "#### **Problem 5:**\n",
    "\n",
    "If we check through the data types in each column, we will realise that year column is not a datetime object. This will cause our plotly tool to read in the wrong information"
   ]
  },
  {
   "cell_type": "markdown",
   "metadata": {
    "id": "GktG7v2kyUXd"
   },
   "source": [
    "### **Problem 1:**\n",
    "\n",
    "Column labels are different - in 2016 & 2017 data - ***Social Support*** while in 2018 & 2019 data - ***Social support***\n",
    "\n",
    "#### **Solution:**\n",
    "\n",
    "Rename the columns by setting all to lowercase characters."
   ]
  },
  {
   "cell_type": "code",
   "execution_count": null,
   "metadata": {
    "colab": {
     "base_uri": "https://localhost:8080/"
    },
    "executionInfo": {
     "elapsed": 741,
     "status": "ok",
     "timestamp": 1635327061631,
     "user": {
      "displayName": "Jh Ke",
      "photoUrl": "https://lh3.googleusercontent.com/a/default-user=s64",
      "userId": "01967339312869766379"
     },
     "user_tz": -480
    },
    "id": "W-BfKXGtzg88",
    "outputId": "dd777d26-66c4-4fdb-a6fe-57be8b71606b"
   },
   "outputs": [],
   "source": [
    "# Check the dataset\n",
    "years = ['2016', '2017', '2018', '2019']\n",
    "for a_year in years:\n",
    "    cols = list(pd.read_csv(f'{folder_path}/{a_year}.csv').columns)\n",
    "    print(f'{a_year}: {cols}')"
   ]
  },
  {
   "cell_type": "code",
   "execution_count": null,
   "metadata": {
    "colab": {
     "base_uri": "https://localhost:8080/"
    },
    "executionInfo": {
     "elapsed": 6,
     "status": "ok",
     "timestamp": 1635327061631,
     "user": {
      "displayName": "Jh Ke",
      "photoUrl": "https://lh3.googleusercontent.com/a/default-user=s64",
      "userId": "01967339312869766379"
     },
     "user_tz": -480
    },
    "id": "hhbEUf5qrCaY",
    "outputId": "3e7b1ba0-50dd-48ad-8455-3785d7e09f45"
   },
   "outputs": [],
   "source": [
    "years = ['2016', '2017', '2018', '2019']\n",
    "for a_year in years:\n",
    "    # Load dataframe\n",
    "    temp_df = pd.read_csv(f'{folder_path}/{a_year}.csv')\n",
    "    \n",
    "    # Get list of column headers\n",
    "    cols = temp_df.columns\n",
    "\n",
    "    # Lowercase column headers\n",
    "    # using python list comprehension\n",
    "    lowercase_cols = [a_col.lower() for a_col in cols]\n",
    "\n",
    "    # Reassign lowercased column headers to dataframe's columns\n",
    "    temp_df.columns = lowercase_cols\n",
    "\n",
    "    # Check to see if column headers are lowercased\n",
    "    print(f'{a_year}: {list(temp_df.columns)}')"
   ]
  },
  {
   "cell_type": "markdown",
   "metadata": {
    "id": "XmCtiyv_yci5"
   },
   "source": [
    "### **Problem 2:**\n",
    "\n",
    "Column labels have spacings between them and this will limit the way how we can call our columns subsequently. A good habit would be to replace all the spaces with underscores.\n",
    "\n",
    "#### **Solution:**\n",
    "\n",
    "Replace the columns headers' spaces with underscores"
   ]
  },
  {
   "cell_type": "code",
   "execution_count": null,
   "metadata": {
    "colab": {
     "base_uri": "https://localhost:8080/"
    },
    "executionInfo": {
     "elapsed": 855,
     "status": "ok",
     "timestamp": 1635327062483,
     "user": {
      "displayName": "Jh Ke",
      "photoUrl": "https://lh3.googleusercontent.com/a/default-user=s64",
      "userId": "01967339312869766379"
     },
     "user_tz": -480
    },
    "id": "edVXdKXV3MV5",
    "outputId": "8cbeb6bf-ad85-4527-eb5c-3d4f6dac8c6e"
   },
   "outputs": [],
   "source": [
    "years = ['2016', '2017', '2018', '2019']\n",
    "for a_year in years:\n",
    "    # Load dataframe\n",
    "    temp_df = pd.read_csv(f'{folder_path}/{a_year}.csv')\n",
    "    \n",
    "    # Get list of column headers\n",
    "    cols = temp_df.columns\n",
    "\n",
    "    # Replace column headers' spaces with underscore\n",
    "    # split() without any parameter will split words by space\n",
    "    # '_'.join will join all the elements in a list with _\n",
    "    lowercase_underscored_cols = ['_'.join(a_col.lower().split()) for a_col in cols]\n",
    "\n",
    "    # Reassign lowercased & underscored column headers to dataframe's columns\n",
    "    temp_df.columns = lowercase_underscored_cols\n",
    "\n",
    "    # Check to see if column headers are lowercased & underscored\n",
    "    print(f'{a_year}: {list(temp_df.columns)}')"
   ]
  },
  {
   "cell_type": "markdown",
   "metadata": {
    "id": "keeiP7WheoIk"
   },
   "source": [
    "### **Problem 3:**\n",
    "\n",
    "There are 4 separate dataframes separated by the year the survey was done. We would need to join them up together into a single dataframe for analysis.\n",
    "\n",
    "#### **Solution:**\n",
    "\n",
    "Store the cleaned 4 dataframes into a list and use the concat method to join up the dataframes into a single dataframe. "
   ]
  },
  {
   "cell_type": "code",
   "execution_count": null,
   "metadata": {
    "colab": {
     "base_uri": "https://localhost:8080/"
    },
    "executionInfo": {
     "elapsed": 19,
     "status": "ok",
     "timestamp": 1635327062483,
     "user": {
      "displayName": "Jh Ke",
      "photoUrl": "https://lh3.googleusercontent.com/a/default-user=s64",
      "userId": "01967339312869766379"
     },
     "user_tz": -480
    },
    "id": "EPOZCX1yaGXb",
    "outputId": "43e8a51c-2a7e-4e28-9f55-4aac84380641"
   },
   "outputs": [],
   "source": [
    "years = ['2016', '2017', '2018', '2019']\n",
    "\n",
    "dataframes_list = []\n",
    "\n",
    "for a_year in years:\n",
    "    # Load dataframe\n",
    "    temp_df = pd.read_csv(f'{folder_path}/{a_year}.csv')\n",
    "    \n",
    "    # Get list of column headers\n",
    "    cols = temp_df.columns\n",
    "\n",
    "    # Replace column headers' spaces with underscore\n",
    "    lowercase_underscored_cols = ['_'.join(a_col.lower().split()) for a_col in cols]\n",
    "\n",
    "    # Reassign lowercased & underscored column headers to dataframe's columns\n",
    "    temp_df.columns = lowercase_underscored_cols\n",
    "\n",
    "    # Check to see if column headers are lowercased & underscored\n",
    "    print(f'{a_year}: {list(temp_df.columns)}')\n",
    "\n",
    "    # Append cleaned dataframes into a list\n",
    "    dataframes_list.append(temp_df)\n",
    "\n",
    "# Print an empty line\n",
    "print()\n",
    "\n",
    "# Check that all dataframes are inside by checking the number of dataframes\n",
    "print(\"Number of dataframes inside list:\", len(dataframes_list))"
   ]
  },
  {
   "cell_type": "code",
   "execution_count": null,
   "metadata": {
    "colab": {
     "base_uri": "https://localhost:8080/",
     "height": 461
    },
    "executionInfo": {
     "elapsed": 17,
     "status": "ok",
     "timestamp": 1635327062484,
     "user": {
      "displayName": "Jh Ke",
      "photoUrl": "https://lh3.googleusercontent.com/a/default-user=s64",
      "userId": "01967339312869766379"
     },
     "user_tz": -480
    },
    "id": "CxK5PYK2eoey",
    "outputId": "70d7e7e7-3a53-43d9-c510-74ea4d822af6"
   },
   "outputs": [],
   "source": [
    "# Store into a single dataframe\n",
    "happiness_idx_df = pd.concat(dataframes_list, ignore_index=True) # We need to set ignore_index as True so that our resulting axis will be labeled 0, …, n - 1\n",
    "\n",
    "# Check the new dataframe\n",
    "happiness_idx_df"
   ]
  },
  {
   "cell_type": "markdown",
   "metadata": {
    "id": "5hWkBdVoguNZ"
   },
   "source": [
    "### **Problem 4:**\n",
    "\n",
    "While all our dataframes are joined into a single dataframe, we lose the most important component - **the year in which these results were recorded**. Our analysis of the happiness index would be incomplete if we do not know the year in which these records were created.\n",
    "\n",
    "#### **Solution:**\n",
    "\n",
    "We will separately add in a column called year at the end of the dataframe which would reflect the year in which the records were taken."
   ]
  },
  {
   "cell_type": "code",
   "execution_count": null,
   "metadata": {
    "colab": {
     "base_uri": "https://localhost:8080/"
    },
    "executionInfo": {
     "elapsed": 16,
     "status": "ok",
     "timestamp": 1635327062484,
     "user": {
      "displayName": "Jh Ke",
      "photoUrl": "https://lh3.googleusercontent.com/a/default-user=s64",
      "userId": "01967339312869766379"
     },
     "user_tz": -480
    },
    "id": "514Y1DJehQAr",
    "outputId": "b60de8ef-88bb-4dc1-d164-3081a72a1c5a"
   },
   "outputs": [],
   "source": [
    "years = ['2016', '2017', '2018', '2019']\n",
    "\n",
    "dataframes_list = []\n",
    "\n",
    "for a_year in years:\n",
    "    # Load dataframe\n",
    "    temp_df = pd.read_csv(f'{folder_path}/{a_year}.csv')\n",
    "    \n",
    "    # Get list of column headers\n",
    "    cols = temp_df.columns\n",
    "\n",
    "    # Replace column headers' spaces with underscore\n",
    "    lowercase_underscored_cols = ['_'.join(a_col.lower().split()) for a_col in cols]\n",
    "\n",
    "    # Reassign lowercased & underscored column headers to dataframe's columns\n",
    "    temp_df.columns = lowercase_underscored_cols\n",
    "\n",
    "    # Create a new column called year\n",
    "    temp_df['year'] = int(a_year)\n",
    "\n",
    "    # Check to see if column headers are lowercased & underscored\n",
    "    print(f'{a_year}: {list(temp_df.columns)}')\n",
    "\n",
    "    # Append cleaned dataframes into a list\n",
    "    dat§aframes_list.append(temp_df)\n",
    "\n",
    "# Print an empty line\n",
    "print()\n",
    "\n",
    "# Check that all dataframes are inside by checking the number of dataframes\n",
    "print(\"Number of dataframes inside list:\", len(dataframes_list))"
   ]
  },
  {
   "cell_type": "code",
   "execution_count": null,
   "metadata": {
    "colab": {
     "base_uri": "https://localhost:8080/",
     "height": 461
    },
    "executionInfo": {
     "elapsed": 13,
     "status": "ok",
     "timestamp": 1635327062485,
     "user": {
      "displayName": "Jh Ke",
      "photoUrl": "https://lh3.googleusercontent.com/a/default-user=s64",
      "userId": "01967339312869766379"
     },
     "user_tz": -480
    },
    "id": "N9HE70nYhax1",
    "outputId": "8b201c91-6336-45c6-d7c1-a6c60e63c0e3"
   },
   "outputs": [],
   "source": [
    "# Store into a single dataframe\n",
    "# We use concat because we have no specific keys to merge on but to simply join the dataframes below each other\n",
    "happiness_idx_df = pd.concat(dataframes_list, ignore_index=True) # We need to set ignore_index as True so that our resulting axis will be labeled 0, …, n - 1\n",
    "\n",
    "# Check the new dataframe\n",
    "happiness_idx_df"
   ]
  },
  {
   "cell_type": "markdown",
   "metadata": {
    "id": "FyulEfbVmcv6"
   },
   "source": [
    "### **Problem 5:**\n",
    "\n",
    "If we check through the data types in each column, we will realise that year column is not a datetime object. This will cause our plotly tool to read in the wrong information\n",
    "\n",
    "#### **Solution**\n",
    "\n",
    "Set the year column to be a datetime object using pandas"
   ]
  },
  {
   "cell_type": "code",
   "execution_count": null,
   "metadata": {
    "colab": {
     "base_uri": "https://localhost:8080/"
    },
    "executionInfo": {
     "elapsed": 13,
     "status": "ok",
     "timestamp": 1635327062485,
     "user": {
      "displayName": "Jh Ke",
      "photoUrl": "https://lh3.googleusercontent.com/a/default-user=s64",
      "userId": "01967339312869766379"
     },
     "user_tz": -480
    },
    "id": "yqnV6qwqm1gv",
    "outputId": "a13b4a1c-0422-4aa4-bc5c-a706ae490136"
   },
   "outputs": [],
   "source": [
    "# Check that our datatypes\n",
    "happiness_idx_df.dtypes"
   ]
  },
  {
   "cell_type": "code",
   "execution_count": null,
   "metadata": {
    "colab": {
     "base_uri": "https://localhost:8080/",
     "height": 617
    },
    "executionInfo": {
     "elapsed": 10,
     "status": "ok",
     "timestamp": 1635327062485,
     "user": {
      "displayName": "Jh Ke",
      "photoUrl": "https://lh3.googleusercontent.com/a/default-user=s64",
      "userId": "01967339312869766379"
     },
     "user_tz": -480
    },
    "id": "8l-jZ18Lm32O",
    "outputId": "b6a678cd-8477-4a68-c532-5118893187f1"
   },
   "outputs": [],
   "source": [
    "# Convert the year column to datetime object\n",
    "# example current date format is 07/08/2021\n",
    "# format = %d/%m/%y\n",
    "# reference for format: https://docs.python.org/3/library/datetime.html#strftime-and-strptime-behavior\n",
    "\n",
    "happiness_idx_df['year'] = pd.to_datetime(happiness_idx_df['year'], format='%Y')\n",
    "happiness_idx_df"
   ]
  },
  {
   "cell_type": "code",
   "execution_count": null,
   "metadata": {
    "executionInfo": {
     "elapsed": 11,
     "status": "ok",
     "timestamp": 1635327062486,
     "user": {
      "displayName": "Jh Ke",
      "photoUrl": "https://lh3.googleusercontent.com/a/default-user=s64",
      "userId": "01967339312869766379"
     },
     "user_tz": -480
    },
    "id": "tsGRTtiu-HMU"
   },
   "outputs": [],
   "source": [
    "# Set the year column to show only the year - Extracting only the year\n",
    "# Reference: https://pandas.pydata.org/pandas-docs/stable/reference/api/pandas.Series.dt.year.html\n",
    "# further reference: https://pandas.pydata.org/pandas-docs/stable/user_guide/timeseries.html\n",
    "\n",
    "# this will convert the datatype back to int\n",
    "# dont have to run\n",
    "#happiness_idx_df['year'] = happiness_idx_df['year'].dt.year\n",
    "\n",
    "# Check the dataframe\n",
    "# happiness_idx_df"
   ]
  },
  {
   "cell_type": "code",
   "execution_count": null,
   "metadata": {
    "colab": {
     "base_uri": "https://localhost:8080/"
    },
    "executionInfo": {
     "elapsed": 10,
     "status": "ok",
     "timestamp": 1635327062486,
     "user": {
      "displayName": "Jh Ke",
      "photoUrl": "https://lh3.googleusercontent.com/a/default-user=s64",
      "userId": "01967339312869766379"
     },
     "user_tz": -480
    },
    "id": "kMJVp7D7nOLU",
    "outputId": "5d158d18-697c-4171-a1f7-fc10e5039bef"
   },
   "outputs": [],
   "source": [
    "# Check that our datatypes\n",
    "happiness_idx_df.dtypes"
   ]
  },
  {
   "cell_type": "markdown",
   "metadata": {
    "id": "1GHDRzISpmx1"
   },
   "source": [
    "## Section 4 - Plotly\n",
    "First, let's take a look at Plotly. Specifically Plotly's express package.\n",
    "We typically do `plotly.express as px`\n",
    "\n",
    "Plotly express offers nice and interactive visualizations using very few lines of codes. It assumes some default settings. \n",
    "\n",
    "To customize the chart beyond what plotly express offers, we may have to go into the main plotly package. \n"
   ]
  },
  {
   "cell_type": "markdown",
   "metadata": {
    "id": "RRbXMTseiHHW"
   },
   "source": [
    "## Line Plot\n",
    "\n",
    "Line plots are used mostly for continous data (e.g. time-series data, an example of which will be shown later).\n",
    "\n",
    "A simple line plot can be created by using the `px.line` function.\n",
    "\n",
    "The `px.line` function has 2 compulsory arguments - the x-axis and the y-axis. These are placed in the order x,y .\n",
    "\n",
    "The x and y axes should contain datapoints. This can be input in the form of lists, dataframe columns or numpy arrays.\n",
    "\n",
    "An example is shown below.\n",
    "\n",
    "**NOTE:** There are many options to use with the arguments! For brevity's sake we will not expand on too many of these. Feel free to search online for more options. \n",
    "\n"
   ]
  },
  {
   "cell_type": "code",
   "execution_count": null,
   "metadata": {
    "colab": {
     "base_uri": "https://localhost:8080/",
     "height": 542
    },
    "executionInfo": {
     "elapsed": 1119,
     "status": "ok",
     "timestamp": 1635327063597,
     "user": {
      "displayName": "Jh Ke",
      "photoUrl": "https://lh3.googleusercontent.com/a/default-user=s64",
      "userId": "01967339312869766379"
     },
     "user_tz": -480
    },
    "id": "VB38LP_o-TBn",
    "outputId": "ed36e0ec-d516-4c99-d5db-d0e92e8fa260"
   },
   "outputs": [],
   "source": [
    "# basic line chart with plotly express\n",
    "import plotly.express as px\n",
    "\n",
    "# put in the dataframe name: happiness_idx_df\n",
    "# put in column name for x-axis: year\n",
    "# put in column name for y-axis: healthy_life_expectancy\n",
    "# call for the figure to show: fig.show()\n",
    "\n",
    "fig = px.line(happiness_idx_df,\n",
    "              x='year',\n",
    "              y='healthy_life_expectancy',\n",
    "              )\n",
    "\n",
    "fig.show()"
   ]
  },
  {
   "cell_type": "code",
   "execution_count": null,
   "metadata": {
    "colab": {
     "base_uri": "https://localhost:8080/",
     "height": 542
    },
    "executionInfo": {
     "elapsed": 379,
     "status": "ok",
     "timestamp": 1635327063973,
     "user": {
      "displayName": "Jh Ke",
      "photoUrl": "https://lh3.googleusercontent.com/a/default-user=s64",
      "userId": "01967339312869766379"
     },
     "user_tz": -480
    },
    "id": "FGMoqq77lW36",
    "outputId": "3ac09701-256c-4116-c313-ddc2f0887400"
   },
   "outputs": [],
   "source": [
    "# Get country of interest - Singapore\n",
    "coi = 'Singapore'\n",
    "\n",
    "# Plot the graph\n",
    "fig = px.line(happiness_idx_df[happiness_idx_df['country_or_region'] == coi], \n",
    "              x=\"year\", \n",
    "              y=\"healthy_life_expectancy\", \n",
    "              color='country_or_region')\n",
    "\n",
    "# Set the x-axis values such that it only reflects the year\n",
    "# reference for tick labels: https://plotly.com/python/time-series/\n",
    "fig.update_xaxes(tickmode=\"array\",\n",
    "                 tickvals = [2016,2017,2018,2019])\n",
    "\n",
    "# Display the graph\n",
    "fig.show()"
   ]
  },
  {
   "cell_type": "code",
   "execution_count": null,
   "metadata": {
    "colab": {
     "base_uri": "https://localhost:8080/",
     "height": 542
    },
    "executionInfo": {
     "elapsed": 468,
     "status": "ok",
     "timestamp": 1635327064439,
     "user": {
      "displayName": "Jh Ke",
      "photoUrl": "https://lh3.googleusercontent.com/a/default-user=s64",
      "userId": "01967339312869766379"
     },
     "user_tz": -480
    },
    "id": "uP_5BpwoiSu8",
    "outputId": "2e71c789-3eb4-4576-80b2-1cfb9d32c6f9"
   },
   "outputs": [],
   "source": [
    "# Declare list of countries\n",
    "countries_of_interest = ['United States', 'Singapore', 'South Korea']\n",
    "\n",
    "# Plot the graph\n",
    "# isin() will check for the countries within the countries_of_interest list\n",
    "fig = px.line(happiness_idx_df[happiness_idx_df['country_or_region'].isin(countries_of_interest)], \n",
    "              x=\"year\", \n",
    "              y=\"healthy_life_expectancy\", \n",
    "              color='country_or_region'\n",
    "              )\n",
    "\n",
    "# Set the x-axis values such that it only reflects the year\n",
    "fig.update_xaxes(tickmode=\"array\",\n",
    "                 tickvals = [2016,2017,2018,2019])\n",
    "\n",
    "# Display the graph\n",
    "fig.show()"
   ]
  },
  {
   "cell_type": "markdown",
   "metadata": {
    "id": "PNHDXsSPoJf0"
   },
   "source": [
    "## Bar Charts\n",
    "\n",
    "Bar charts allow for comparison between different groups.\n",
    "\n",
    "A simple example of a vertical bar chart is shown below.\n"
   ]
  },
  {
   "cell_type": "markdown",
   "metadata": {
    "id": "sfPJUhFncIB7"
   },
   "source": [
    "### **Scenario #1: Single Bar Chart**\n",
    "\n",
    "Select the **top 5 countries** based on happiness `score` in **2019** and plot their `gdp_per_capita` as a **bar chart**."
   ]
  },
  {
   "cell_type": "code",
   "execution_count": null,
   "metadata": {
    "colab": {
     "base_uri": "https://localhost:8080/",
     "height": 167
    },
    "executionInfo": {
     "elapsed": 6,
     "status": "ok",
     "timestamp": 1635327064440,
     "user": {
      "displayName": "Jh Ke",
      "photoUrl": "https://lh3.googleusercontent.com/a/default-user=s64",
      "userId": "01967339312869766379"
     },
     "user_tz": -480
    },
    "id": "xZopU2SyqEs4",
    "outputId": "c981156e-b821-48c8-ce45-05999b2ada81"
   },
   "outputs": [],
   "source": [
    "# Look at a little of our dataset\n",
    "happiness_idx_df.head(2)"
   ]
  },
  {
   "cell_type": "code",
   "execution_count": null,
   "metadata": {
    "colab": {
     "base_uri": "https://localhost:8080/",
     "height": 542
    },
    "executionInfo": {
     "elapsed": 373,
     "status": "ok",
     "timestamp": 1635327064807,
     "user": {
      "displayName": "Jh Ke",
      "photoUrl": "https://lh3.googleusercontent.com/a/default-user=s64",
      "userId": "01967339312869766379"
     },
     "user_tz": -480
    },
    "id": "mfQzXoOboJxA",
    "outputId": "b02216b2-1c58-4d69-c469-11daad3eaa22"
   },
   "outputs": [],
   "source": [
    "# Select the dataset with the year of interest\n",
    "happiness_idx_df_2019 = happiness_idx_df[happiness_idx_df['year'] == '2019-01-01']\n",
    "\n",
    "# Select the top 5 countries based on score\n",
    "top_5_2019 = happiness_idx_df_2019.nlargest(5, 'score')\n",
    "\n",
    "# Plot the graph based on gdp_per_capita\n",
    "fig = px.bar(top_5_2019, \n",
    "             x=\"country_or_region\", \n",
    "             y=\"gdp_per_capita\", \n",
    "             color='country_or_region')\n",
    "\n",
    "# Display the graph\n",
    "fig.show()"
   ]
  },
  {
   "cell_type": "markdown",
   "metadata": {
    "id": "RexWgfwpscq5"
   },
   "source": [
    "### **Scenario #2: Single Bar Chart**\n",
    "\n",
    "**Your task:**\n",
    "\n",
    "\n",
    "Select the **top 5 countries** based on happiness `score` in **2018** and plot their `gdp_per_capita` as a **bar chart**."
   ]
  },
  {
   "cell_type": "code",
   "execution_count": null,
   "metadata": {
    "colab": {
     "base_uri": "https://localhost:8080/",
     "height": 542
    },
    "executionInfo": {
     "elapsed": 344,
     "status": "ok",
     "timestamp": 1635327065148,
     "user": {
      "displayName": "Jh Ke",
      "photoUrl": "https://lh3.googleusercontent.com/a/default-user=s64",
      "userId": "01967339312869766379"
     },
     "user_tz": -480
    },
    "id": "hc_yVrNpsdRJ",
    "outputId": "97d68cb3-8b0b-40ee-e331-d8893e5c2d2c"
   },
   "outputs": [],
   "source": [
    "# Select the dataset with the year of interest\n",
    "happiness_idx_df_2018 = happiness_idx_df[happiness_idx_df['year'] == '2018-01-01']\n",
    "\n",
    "# Select the top 5 countries based on score\n",
    "top_5_2018 = happiness_idx_df_2018.nlargest(5, 'score')\n",
    "\n",
    "# Plot the graph based on gdp_per_capita\n",
    "fig = px.bar(top_5_2018, \n",
    "             x=\"country_or_region\", \n",
    "             y=\"gdp_per_capita\", \n",
    "             color='country_or_region')\n",
    "\n",
    "# Display the graph\n",
    "fig.show()"
   ]
  },
  {
   "cell_type": "markdown",
   "metadata": {
    "id": "Ea5d40jIsZlx"
   },
   "source": [
    "### **Scenario #3: Grouped Bar Chart**\n",
    "\n",
    "We can also compare **categorical data** by having multiple columns beside one another.\n",
    "\n",
    "For example, if we wanted to compare the `healthy_life_expectancy` of 3 countries: "
   ]
  },
  {
   "cell_type": "code",
   "execution_count": null,
   "metadata": {
    "colab": {
     "base_uri": "https://localhost:8080/",
     "height": 542
    },
    "executionInfo": {
     "elapsed": 412,
     "status": "ok",
     "timestamp": 1635327065558,
     "user": {
      "displayName": "Jh Ke",
      "photoUrl": "https://lh3.googleusercontent.com/a/default-user=s64",
      "userId": "01967339312869766379"
     },
     "user_tz": -480
    },
    "id": "Sv6yLFj2tN9j",
    "outputId": "e8068610-ca95-474e-f1d7-9e9d7b857176"
   },
   "outputs": [],
   "source": [
    "# Declare list of countries\n",
    "countries_of_interest = ['United States', 'Singapore', 'South Korea']\n",
    "\n",
    "# Plot the graph\n",
    "# Using the isin() method: Whether each element in the DataFrame is contained in values\n",
    "fig = px.bar(happiness_idx_df[happiness_idx_df['country_or_region'].isin(countries_of_interest)], \n",
    "              x=\"year\", \n",
    "              y=\"healthy_life_expectancy\", \n",
    "              color='country_or_region',\n",
    "             barmode = 'group')\n",
    "\n",
    "\n",
    "# Display the graph\n",
    "fig.show()"
   ]
  },
  {
   "cell_type": "markdown",
   "metadata": {
    "id": "Xop7r8iiu3gr"
   },
   "source": [
    "### **Scenario #4: Grouped Bar Chart**\n",
    "\n",
    "**Your task:**\n",
    "Compare the `gdp_per_capita` of 3 countries, via a grouped bar chart."
   ]
  },
  {
   "cell_type": "code",
   "execution_count": null,
   "metadata": {
    "colab": {
     "base_uri": "https://localhost:8080/",
     "height": 542
    },
    "executionInfo": {
     "elapsed": 896,
     "status": "ok",
     "timestamp": 1635327066452,
     "user": {
      "displayName": "Jh Ke",
      "photoUrl": "https://lh3.googleusercontent.com/a/default-user=s64",
      "userId": "01967339312869766379"
     },
     "user_tz": -480
    },
    "id": "zgO4HQl6u37G",
    "outputId": "96001ebc-c79e-46e1-d731-461a8fd6eec0"
   },
   "outputs": [],
   "source": [
    "# Declare list of countries\n",
    "countries_of_interest = ['United States', 'Singapore', 'South Korea']\n",
    "\n",
    "# Plot the graph\n",
    "# Using the isin() method: Whether each element in the DataFrame is contained in values\n",
    "fig = px.bar(happiness_idx_df[happiness_idx_df['country_or_region'].isin(countries_of_interest)], \n",
    "              x=\"year\", \n",
    "              y=\"gdp_per_capita\", \n",
    "              color='country_or_region',\n",
    "             barmode = 'group')\n",
    "\n",
    "\n",
    "# Display the graph\n",
    "fig.show()"
   ]
  },
  {
   "cell_type": "markdown",
   "metadata": {
    "id": "4mazy5-34quw"
   },
   "source": [
    "## Histogram\n",
    "\n",
    "Let's take a look at the histogram. \n",
    "\n",
    "The histogram lets us summarise the distribution of a variable.\n",
    "\n",
    "From this we can visualise the data and see if it is skewed, observe its spread, look for the (multiple) modes etc. \n",
    "\n",
    "For an application of the histogram, lets look at the distribution of life expectancies in different countries. \n",
    "\n"
   ]
  },
  {
   "cell_type": "markdown",
   "metadata": {
    "id": "kx7yZp6Tcri9"
   },
   "source": [
    "### **Scenario #5:**\n",
    "\n",
    "We will plot a histogram of the life expectancy for 2018 in our happiness index dataset. "
   ]
  },
  {
   "cell_type": "code",
   "execution_count": null,
   "metadata": {
    "colab": {
     "base_uri": "https://localhost:8080/"
    },
    "executionInfo": {
     "elapsed": 8,
     "status": "ok",
     "timestamp": 1635327066452,
     "user": {
      "displayName": "Jh Ke",
      "photoUrl": "https://lh3.googleusercontent.com/a/default-user=s64",
      "userId": "01967339312869766379"
     },
     "user_tz": -480
    },
    "id": "DhznBqKTdNek",
    "outputId": "788b80e4-0c3e-460e-b2f5-023988edf93b"
   },
   "outputs": [],
   "source": [
    "happiness_idx_df.dtypes"
   ]
  },
  {
   "cell_type": "code",
   "execution_count": null,
   "metadata": {
    "colab": {
     "base_uri": "https://localhost:8080/",
     "height": 617
    },
    "executionInfo": {
     "elapsed": 5,
     "status": "ok",
     "timestamp": 1635327066453,
     "user": {
      "displayName": "Jh Ke",
      "photoUrl": "https://lh3.googleusercontent.com/a/default-user=s64",
      "userId": "01967339312869766379"
     },
     "user_tz": -480
    },
    "id": "4lHd1qJHb524",
    "outputId": "dcd30489-372a-420f-a40e-84bf15c4133d"
   },
   "outputs": [],
   "source": [
    "# Let's look at our dataset in 2018\n",
    "happiness_idx_df_18 = happiness_idx_df[happiness_idx_df['year'] == '2018-01-01'].reset_index(drop = True)\n",
    "happiness_idx_df_18"
   ]
  },
  {
   "cell_type": "code",
   "execution_count": null,
   "metadata": {
    "colab": {
     "base_uri": "https://localhost:8080/",
     "height": 417
    },
    "executionInfo": {
     "elapsed": 750,
     "status": "ok",
     "timestamp": 1635327067199,
     "user": {
      "displayName": "Jh Ke",
      "photoUrl": "https://lh3.googleusercontent.com/a/default-user=s64",
      "userId": "01967339312869766379"
     },
     "user_tz": -480
    },
    "id": "oDILSbpMdaiC",
    "outputId": "7e4d63eb-c833-4219-e0a6-fee0475e843f"
   },
   "outputs": [],
   "source": [
    "# Plot the graph\n",
    "fig = px.histogram(happiness_idx_df_18,\n",
    "                x='healthy_life_expectancy',\n",
    "                nbins = 10)\n",
    "\n",
    "# Adjust plot size\n",
    "# update_layout can control more aspects of the chart\n",
    "fig.update_layout(width = 600, \n",
    "                  height = 400)\n",
    "\n",
    "# Display the graph\n",
    "fig.show()"
   ]
  },
  {
   "cell_type": "markdown",
   "metadata": {
    "id": "D3LwqwdQM5YU"
   },
   "source": [
    "Are we done? Wait! We haven't talked about bins yet. \n",
    "\n",
    "Bins are an essential part of histograms. \n",
    "\n",
    "**By default,** the number of bins is chosen so that this number is comparable to the typical number of samples in a bin. This number can be customized, as well as the range of values.\n",
    "\n",
    "The number of bins determine how many intervals there are in the histogram. \n",
    "\n",
    "Our earlier histogram has 10 intervals.\n",
    "\n",
    "However this might oversimplify things too much. \n",
    "\n",
    "To put this into perspective, the age range of 50 to 60 is too broad. We won't be able to pinpoint details clearly. \n",
    "\n",
    "To define the number of bins, we add the bins = ***n*** parameter into the `px.histogram` function. "
   ]
  },
  {
   "cell_type": "code",
   "execution_count": null,
   "metadata": {
    "colab": {
     "base_uri": "https://localhost:8080/",
     "height": 417
    },
    "executionInfo": {
     "elapsed": 7,
     "status": "ok",
     "timestamp": 1635327067199,
     "user": {
      "displayName": "Jh Ke",
      "photoUrl": "https://lh3.googleusercontent.com/a/default-user=s64",
      "userId": "01967339312869766379"
     },
     "user_tz": -480
    },
    "id": "TAtFvu8qeFSJ",
    "outputId": "27b4cd4f-32fd-4a88-c66b-b47e57fd6e1e"
   },
   "outputs": [],
   "source": [
    "# Plot the graph\n",
    "fig = px.histogram(happiness_idx_df_18,\n",
    "                x='healthy_life_expectancy',\n",
    "                nbins = 20)\n",
    "\n",
    "# Adjust plot size\n",
    "fig.update_layout(width = 600, \n",
    "                  height = 400)\n",
    "\n",
    "# Display the graph\n",
    "fig.show()"
   ]
  },
  {
   "cell_type": "markdown",
   "metadata": {
    "id": "sdhMIjZQgdb6"
   },
   "source": [
    "## Scatterplot\n",
    "Scatter plots allow us to assess if there's a correlation between two variables.\n",
    "\n",
    "A scatter plot shows data on the x and y axis simultaneously to show the relationship. \n",
    "\n",
    "This is useful to show spread or clustering, as well as to show non-linear relationships. \n",
    "\n",
    "Let's see how we can plot a scatter plot below using 2018 data for GDP per capita and life expectancy for different countries. "
   ]
  },
  {
   "cell_type": "code",
   "execution_count": null,
   "metadata": {
    "colab": {
     "base_uri": "https://localhost:8080/",
     "height": 617
    },
    "executionInfo": {
     "elapsed": 6,
     "status": "ok",
     "timestamp": 1635327067200,
     "user": {
      "displayName": "Jh Ke",
      "photoUrl": "https://lh3.googleusercontent.com/a/default-user=s64",
      "userId": "01967339312869766379"
     },
     "user_tz": -480
    },
    "id": "uVshluBrg07w",
    "outputId": "39b099d6-faa8-46f3-fdf6-c119f4157d61"
   },
   "outputs": [],
   "source": [
    "happiness_idx_df_18"
   ]
  },
  {
   "cell_type": "code",
   "execution_count": null,
   "metadata": {
    "colab": {
     "base_uri": "https://localhost:8080/",
     "height": 487
    },
    "executionInfo": {
     "elapsed": 2094,
     "status": "ok",
     "timestamp": 1635327069288,
     "user": {
      "displayName": "Jh Ke",
      "photoUrl": "https://lh3.googleusercontent.com/a/default-user=s64",
      "userId": "01967339312869766379"
     },
     "user_tz": -480
    },
    "id": "5LsO8xD3fYNJ",
    "outputId": "8e3300c0-4db9-492c-909a-c56d728b5e90"
   },
   "outputs": [],
   "source": [
    "# Let's check the pairwise relationship between the two variables\n",
    "# gdp_per_capita and healthy_life_expectancy\n",
    "# hover_name will give the hover textbox the name, using the column name\n",
    "# hover_data will add in additional columns to display\n",
    "# inserting trendlines: https://plotly.com/python/linear-fits/\n",
    "fig = px.scatter(happiness_idx_df_18,\n",
    "                 x = 'gdp_per_capita',\n",
    "                 y = 'healthy_life_expectancy',\n",
    "                 hover_name='country_or_region',\n",
    "                 hover_data=['score'],\n",
    "                 trendline=\"ols\"\n",
    "                 )\n",
    "\n",
    "fig.update_layout(height = 400,\n",
    "                  width = 400)\n",
    "\n",
    "fig.show()"
   ]
  },
  {
   "cell_type": "code",
   "execution_count": null,
   "metadata": {
    "colab": {
     "base_uri": "https://localhost:8080/",
     "height": 443
    },
    "executionInfo": {
     "elapsed": 12,
     "status": "ok",
     "timestamp": 1635327069296,
     "user": {
      "displayName": "Jh Ke",
      "photoUrl": "https://lh3.googleusercontent.com/a/default-user=s64",
      "userId": "01967339312869766379"
     },
     "user_tz": -480
    },
    "id": "5lt_pmGmPGf6",
    "outputId": "8fc1b59d-8460-49e0-f478-26729e11c50d"
   },
   "outputs": [],
   "source": [
    "# what if we want to plot the scatter plot for all variables?\n",
    "# only query all the numerical variables\n",
    "happiness_idx_df_18.iloc[:,2:-1]"
   ]
  },
  {
   "cell_type": "code",
   "execution_count": null,
   "metadata": {
    "colab": {
     "base_uri": "https://localhost:8080/",
     "height": 542
    },
    "executionInfo": {
     "elapsed": 577,
     "status": "ok",
     "timestamp": 1635327069864,
     "user": {
      "displayName": "Jh Ke",
      "photoUrl": "https://lh3.googleusercontent.com/a/default-user=s64",
      "userId": "01967339312869766379"
     },
     "user_tz": -480
    },
    "id": "eGulkCU7OuIB",
    "outputId": "477e0f8b-bb41-4ff8-e9e6-4c588669bc06"
   },
   "outputs": [],
   "source": [
    "# use scatter_matrix\n",
    "fig = px.scatter_matrix(happiness_idx_df_18.iloc[:,2:-1])\n",
    "fig.show()"
   ]
  },
  {
   "cell_type": "markdown",
   "metadata": {
    "id": "n9weYJN0m4Hq"
   },
   "source": [
    "## Bubble Plot\n",
    "\n",
    "A bubble chart is a scatter plot in which a third dimension of the data is shown through the size of markers.\n",
    "\n",
    "Bubble charts can facilitate the understanding of social, economical, medical, and other scientific relationships. Bubble charts can be considered a variation of the scatter plot, in which the data points are replaced with bubbles."
   ]
  },
  {
   "cell_type": "code",
   "execution_count": null,
   "metadata": {
    "colab": {
     "base_uri": "https://localhost:8080/",
     "height": 1000
    },
    "executionInfo": {
     "elapsed": 5,
     "status": "ok",
     "timestamp": 1635327069865,
     "user": {
      "displayName": "Jh Ke",
      "photoUrl": "https://lh3.googleusercontent.com/a/default-user=s64",
      "userId": "01967339312869766379"
     },
     "user_tz": -480
    },
    "id": "gYgR-C6Hm6UW",
    "outputId": "07dcd92c-4c02-4183-f08c-69f280d968be"
   },
   "outputs": [],
   "source": [
    "# Randomly sample 20 data points: sample()\n",
    "sample_20 = happiness_idx_df_18.sample(20).reset_index(drop=True)\n",
    "sample_20"
   ]
  },
  {
   "cell_type": "code",
   "execution_count": null,
   "metadata": {
    "colab": {
     "base_uri": "https://localhost:8080/",
     "height": 417
    },
    "executionInfo": {
     "elapsed": 563,
     "status": "ok",
     "timestamp": 1635327070424,
     "user": {
      "displayName": "Jh Ke",
      "photoUrl": "https://lh3.googleusercontent.com/a/default-user=s64",
      "userId": "01967339312869766379"
     },
     "user_tz": -480
    },
    "id": "dlGF2B9ffYUf",
    "outputId": "740d88ea-0b5b-467c-c7fe-eba7efc5e668"
   },
   "outputs": [],
   "source": [
    "# Plot the graph\n",
    "fig = px.scatter(sample_20, \n",
    "                 x = 'gdp_per_capita',\n",
    "                 y = 'healthy_life_expectancy',\n",
    "                 size=\"score\", \n",
    "                 color=\"country_or_region\",\n",
    "                 hover_name=\"country_or_region\", \n",
    "                 log_x=True\n",
    "                 )\n",
    "\n",
    "# Adjust the layout\n",
    "fig.update_layout(height = 400,\n",
    "                  width = 600)\n",
    "\n",
    "# Display the graph\n",
    "fig.show()"
   ]
  },
  {
   "cell_type": "markdown",
   "metadata": {
    "id": "uHg7NVbevhy5"
   },
   "source": [
    "## Heatmap\n",
    "\n",
    "Given a data set with many columns, a good way to quickly check correlations among columns is by visualizing the correlation matrix as a heatmap.\n",
    "\n",
    "In our above scenarios of the boxplot we realise we can tell much from them beyond how the distribution works. \n",
    "\n",
    "**Reference link:** https://plotly.com/python/builtin-colorscales/#builtin-diverging-color-scales\n",
    "\n",
    "**Available colors for heatmap**\n",
    "```\n",
    "'aggrnyl', 'agsunset', 'algae', 'amp', 'armyrose', 'balance',\n",
    "'blackbody', 'bluered', 'blues', 'blugrn', 'bluyl', 'brbg',\n",
    "'brwnyl', 'bugn', 'bupu', 'burg', 'burgyl', 'cividis', 'curl',\n",
    "'darkmint', 'deep', 'delta', 'dense', 'earth', 'edge', 'electric',\n",
    "'emrld', 'fall', 'geyser', 'gnbu', 'gray', 'greens', 'greys',\n",
    "'haline', 'hot', 'hsv', 'ice', 'icefire', 'inferno', 'jet',\n",
    "'magenta', 'magma', 'matter', 'mint', 'mrybm', 'mygbm', 'oranges',\n",
    "'orrd', 'oryel', 'peach', 'phase', 'picnic', 'pinkyl', 'piyg',\n",
    "'plasma', 'plotly3', 'portland', 'prgn', 'pubu', 'pubugn', 'puor',\n",
    "'purd', 'purp', 'purples', 'purpor', 'rainbow', 'rdbu', 'rdgy',\n",
    "'rdpu', 'rdylbu', 'rdylgn', 'redor', 'reds', 'solar', 'spectral',\n",
    "'speed', 'sunset', 'sunsetdark', 'teal', 'tealgrn', 'tealrose',\n",
    "'tempo', 'temps', 'thermal', 'tropic', 'turbid', 'twilight',\n",
    "'viridis', 'ylgn', 'ylgnbu', 'ylorbr', 'ylorrd'\n",
    " ```"
   ]
  },
  {
   "cell_type": "markdown",
   "metadata": {
    "id": "wzVnGPJVwFPx"
   },
   "source": [
    "### **Correlation Visualisation**\n",
    "\n",
    "Visualise the correlation between variables for the happiness index dataset in 2018 to understand their correlations"
   ]
  },
  {
   "cell_type": "code",
   "execution_count": null,
   "metadata": {
    "colab": {
     "base_uri": "https://localhost:8080/",
     "height": 313
    },
    "executionInfo": {
     "elapsed": 7,
     "status": "ok",
     "timestamp": 1635327070424,
     "user": {
      "displayName": "Jh Ke",
      "photoUrl": "https://lh3.googleusercontent.com/a/default-user=s64",
      "userId": "01967339312869766379"
     },
     "user_tz": -480
    },
    "id": "rOdzSjLrwZWl",
    "outputId": "d0dc106c-67bd-48a9-cc60-8a5ad6183f40"
   },
   "outputs": [],
   "source": [
    "happiness_idx_df_18.head()"
   ]
  },
  {
   "cell_type": "code",
   "execution_count": null,
   "metadata": {
    "colab": {
     "base_uri": "https://localhost:8080/"
    },
    "executionInfo": {
     "elapsed": 7,
     "status": "ok",
     "timestamp": 1635327070424,
     "user": {
      "displayName": "Jh Ke",
      "photoUrl": "https://lh3.googleusercontent.com/a/default-user=s64",
      "userId": "01967339312869766379"
     },
     "user_tz": -480
    },
    "id": "4dum1BagxBhd",
    "outputId": "b8bd59ea-d15b-4766-d595-248b2bbc669f"
   },
   "outputs": [],
   "source": [
    "happiness_idx_df_18.columns"
   ]
  },
  {
   "cell_type": "code",
   "execution_count": null,
   "metadata": {
    "colab": {
     "base_uri": "https://localhost:8080/",
     "height": 235
    },
    "executionInfo": {
     "elapsed": 569,
     "status": "error",
     "timestamp": 1635327070989,
     "user": {
      "displayName": "Jh Ke",
      "photoUrl": "https://lh3.googleusercontent.com/a/default-user=s64",
      "userId": "01967339312869766379"
     },
     "user_tz": -480
    },
    "id": "0FmYlVSOf1Lg",
    "outputId": "80ffc924-bca4-4bfe-8e4c-ec00f2bb64d1"
   },
   "outputs": [],
   "source": [
    "# Plot a correlation plot using a heatmap\n",
    "fig = px.imshow(happiness_idx_df_18[['score', 'gdp_per_capita',\n",
    "                                     'social_support', 'healthy_life_expectancy',\n",
    "                                     'freedom_to_make_life_choices', 'generosity',\n",
    "                                     'perceptions_of_corruption']].corr(),\n",
    "                x=['score', 'gdp_per_capita',\n",
    "                   'social_support', 'healthy_life_expectancy',\n",
    "                   'freedom_to_make_life_choices', 'generosity',\n",
    "                   'perceptions_of_corruption'],\n",
    "                y=['score', 'gdp_per_capita',\n",
    "                   'social_support', 'healthy_life_expectancy',\n",
    "                   'freedom_to_make_life_choices', 'generosity',\n",
    "                   'perceptions_of_corruption'],\n",
    "                color_continuous_scale = 'rdylgn'\n",
    "                )\n",
    "\n",
    "fig.update_xaxes(side=\"top\")\n",
    "fig.show()"
   ]
  },
  {
   "cell_type": "markdown",
   "metadata": {
    "id": "l3fj0adRZdRE"
   },
   "source": [
    "If you want to annotate the cells with the values, using seaborn could be easier. \n",
    "\n",
    "**TAKE NOTE**\n",
    "\n",
    "This is a different plotting package. Matplotlib and Seaborn"
   ]
  },
  {
   "cell_type": "code",
   "execution_count": null,
   "metadata": {
    "executionInfo": {
     "elapsed": 11,
     "status": "aborted",
     "timestamp": 1635327070982,
     "user": {
      "displayName": "Jh Ke",
      "photoUrl": "https://lh3.googleusercontent.com/a/default-user=s64",
      "userId": "01967339312869766379"
     },
     "user_tz": -480
    },
    "id": "i76h7b2OZcsB"
   },
   "outputs": [],
   "source": [
    "# matplotlib is the most common and basic visualization package in python\n",
    "import matplotlib.pyplot as plt\n",
    "\n",
    "# seaborn is a visualization package built on top of matplotlib\n",
    "import seaborn as sns\n",
    "\n",
    "# plot correlation heatmap\n",
    "_, ax = plt.subplots(figsize=(14, 12))\n",
    "\n",
    "# This is to define the color palette for seaborn\n",
    "# https://seaborn.pydata.org/generated/seaborn.diverging_palette.html\n",
    "cmap = sns.diverging_palette(220, 10, as_cmap=True)\n",
    "\n",
    "# plot a heatmap of the correlation of the variables\n",
    "# cmap: the colormap which we created in the previous line\n",
    "# square: set the shape of each cell to be square shaped\n",
    "# cbar_kws: define the scale of the legend\n",
    "# ax: draw onto the axes based on what we defined in matplotlib subplots\n",
    "# annot=True: annotation, write the correlation value in each cell\n",
    "# annot_kws: set the fontsize for the annotation\n",
    "sns.heatmap(happiness_idx_df_18[['score', 'gdp_per_capita',\n",
    "                                     'social_support', 'healthy_life_expectancy',\n",
    "                                     'freedom_to_make_life_choices', 'generosity',\n",
    "                                     'perceptions_of_corruption']].corr(), \n",
    "            cmap=cmap,\n",
    "            square=True,\n",
    "            cbar_kws={'shrink': .9},\n",
    "            ax=ax,\n",
    "            annot=True,\n",
    "            annot_kws={'fontsize': 12}\n",
    "            )"
   ]
  },
  {
   "cell_type": "markdown",
   "metadata": {
    "id": "RiRN22z_Ikvj"
   },
   "source": [
    "\n",
    "\n",
    "---\n",
    "**TAKE NOTE**\n",
    "\n",
    "We will be using a different dataset from here on. "
   ]
  },
  {
   "cell_type": "markdown",
   "metadata": {
    "id": "8mvyM3sTkwPK"
   },
   "source": [
    "## Stacked Bar Chart\n",
    "\n",
    "Bars can also be stacked. \n",
    "\n",
    "For example, we want to compare the number of people that turns up over different `time` periods of the day (dinner vs lunch) and separate them based on `sex`.\n",
    "\n",
    "For this exercise we will need to use a new dataset - **tips dataset**. This dataset is built into the Plotly library so we will call for the dataset using the library and process our data from there."
   ]
  },
  {
   "cell_type": "code",
   "execution_count": null,
   "metadata": {
    "executionInfo": {
     "elapsed": 11,
     "status": "aborted",
     "timestamp": 1635327070982,
     "user": {
      "displayName": "Jh Ke",
      "photoUrl": "https://lh3.googleusercontent.com/a/default-user=s64",
      "userId": "01967339312869766379"
     },
     "user_tz": -480
    },
    "id": "_Y0Ehi3qwf_V"
   },
   "outputs": [],
   "source": [
    "# Retrieve data\n",
    "tips_df = px.data.tips()\n",
    "tips_df"
   ]
  },
  {
   "cell_type": "code",
   "execution_count": null,
   "metadata": {
    "executionInfo": {
     "elapsed": 12,
     "status": "aborted",
     "timestamp": 1635327070983,
     "user": {
      "displayName": "Jh Ke",
      "photoUrl": "https://lh3.googleusercontent.com/a/default-user=s64",
      "userId": "01967339312869766379"
     },
     "user_tz": -480
    },
    "id": "7svDJm6AwiQJ"
   },
   "outputs": [],
   "source": [
    "# Plot the graph\n",
    "fig = px.bar(tips_df, \n",
    "             x=\"time\",\n",
    "             y='size',\n",
    "             color=\"sex\",\n",
    "             barmode='relative'\n",
    "            )\n",
    "\n",
    "# Display the graph\n",
    "fig.show()"
   ]
  },
  {
   "cell_type": "code",
   "execution_count": null,
   "metadata": {
    "executionInfo": {
     "elapsed": 12,
     "status": "aborted",
     "timestamp": 1635327070983,
     "user": {
      "displayName": "Jh Ke",
      "photoUrl": "https://lh3.googleusercontent.com/a/default-user=s64",
      "userId": "01967339312869766379"
     },
     "user_tz": -480
    },
    "id": "MOz_Y7ewy_as"
   },
   "outputs": [],
   "source": [
    "# Get the total number of people in each group\n",
    "grouped_df = tips_df.groupby(['time','sex'])[['size']].sum().reset_index()\n",
    "grouped_df"
   ]
  },
  {
   "cell_type": "code",
   "execution_count": null,
   "metadata": {
    "executionInfo": {
     "elapsed": 12,
     "status": "aborted",
     "timestamp": 1635327070983,
     "user": {
      "displayName": "Jh Ke",
      "photoUrl": "https://lh3.googleusercontent.com/a/default-user=s64",
      "userId": "01967339312869766379"
     },
     "user_tz": -480
    },
    "id": "9ppEKarbwiTy"
   },
   "outputs": [],
   "source": [
    "# Plot the graph\n",
    "fig = px.bar(grouped_df, \n",
    "             x=\"time\",\n",
    "             y='size',\n",
    "             color=\"sex\",\n",
    "             barmode='stack', # use 'relative' or 'stack' for barmode for stacked barchart\n",
    "             category_orders = {'time':[\"Lunch\", \"Dinner\"]}, # rearrange the order on the x-axis,\n",
    "             color_discrete_map = {'Male':'green', \"Female\":'purple'}, # map the correct color\n",
    "             labels = {'size': 'Number of people',\n",
    "                       'time':'Time of meal'} # change the axis labels\n",
    "            )\n",
    "\n",
    "# Display the graph\n",
    "fig.show()"
   ]
  },
  {
   "cell_type": "markdown",
   "metadata": {
    "id": "HluRa3L32ur1"
   },
   "source": [
    "### **Scenario #6: Stacked Bar Chart**\n",
    "\n",
    "For example, we want to compare the number of people that turns up over different `time` periods of the day (dinner vs lunch) and separate them based on `smoker` or not.\n"
   ]
  },
  {
   "cell_type": "code",
   "execution_count": null,
   "metadata": {
    "executionInfo": {
     "elapsed": 12,
     "status": "aborted",
     "timestamp": 1635327070983,
     "user": {
      "displayName": "Jh Ke",
      "photoUrl": "https://lh3.googleusercontent.com/a/default-user=s64",
      "userId": "01967339312869766379"
     },
     "user_tz": -480
    },
    "id": "Dww2mNbgwiYL"
   },
   "outputs": [],
   "source": [
    "# Get the total number of people in each group\n",
    "grouped_df = tips_df.groupby(['time','smoker'])[['size']].sum().reset_index()\n",
    "grouped_df"
   ]
  },
  {
   "cell_type": "code",
   "execution_count": null,
   "metadata": {
    "executionInfo": {
     "elapsed": 13,
     "status": "aborted",
     "timestamp": 1635327070984,
     "user": {
      "displayName": "Jh Ke",
      "photoUrl": "https://lh3.googleusercontent.com/a/default-user=s64",
      "userId": "01967339312869766379"
     },
     "user_tz": -480
    },
    "id": "aU6Z8fe33o8V"
   },
   "outputs": [],
   "source": [
    "# Plot the graph\n",
    "fig = px.bar(grouped_df, \n",
    "             x=\"time\",\n",
    "             y='size',\n",
    "             color=\"smoker\",\n",
    "             barmode='relative',\n",
    "             category_orders = {'time':[\"Dinner\", \"Lunch\"]}, # rearrange the order on the x-axis,\n",
    "             color_discrete_map = {'Yes':'lightsalmon', \"No\":'lightblue'}, # map the correct color\n",
    "             labels = {'size': 'Number of people'} # change the axis labels\n",
    "            )\n",
    "\n",
    "# Display the graph\n",
    "fig.show()"
   ]
  },
  {
   "cell_type": "markdown",
   "metadata": {
    "id": "Z-FnRLhq4qTo"
   },
   "source": [
    "### **Scenario #7: Horizontal 100% Stacked Bar Chart**\n",
    "\n",
    "We can use a horizontal vertical bar to compare totals and see subcomponents. However, comparison of subcomponents will be limited to the bottom subcomponent.\n",
    "\n",
    "Using a 100% horizontal vertical bar will allow us to compare both the bottom and the top.\n",
    "\n",
    "For example, we want to compare the number of people that turns up over different `time` periods of the day (dinner vs lunch) and separate them based on `smoker` or not.\n"
   ]
  },
  {
   "cell_type": "markdown",
   "metadata": {
    "id": "EzoV_8j8R1K7"
   },
   "source": [
    "**How we should approach this scenario?**\n",
    "\n",
    "1. We will check our dataframe and see the information we need\n",
    "2. After checking, we realised that we will need to convert the numbers - `size`, to a percentage\n",
    "3. To convert into a percentage what we need to do is to get the sum of the number of people who turned up during `dinner` and `lunch` and divde it the numbers in the `size` column by this sum\n",
    "4. Create a new column to store this value - we use **`swifter.apply`** to help us. (Read below for what is swifter)\n",
    "\n",
    "**Note:**\n",
    "\n",
    "Swifter is a 3rd party package that automatically uses the fastest techniques to process pandas .apply methods.\n",
    "\n",
    "We will learn about multiprocessing and distributed processing in later sessions. For now, we shall put our faith into swifter.\n"
   ]
  },
  {
   "cell_type": "code",
   "execution_count": null,
   "metadata": {
    "executionInfo": {
     "elapsed": 13,
     "status": "aborted",
     "timestamp": 1635327070984,
     "user": {
      "displayName": "Jh Ke",
      "photoUrl": "https://lh3.googleusercontent.com/a/default-user=s64",
      "userId": "01967339312869766379"
     },
     "user_tz": -480
    },
    "id": "WOmQt_dpJI4x"
   },
   "outputs": [],
   "source": [
    "# Check out our dataframe - grouped_df again\n",
    "grouped_df"
   ]
  },
  {
   "cell_type": "code",
   "execution_count": null,
   "metadata": {
    "executionInfo": {
     "elapsed": 13,
     "status": "aborted",
     "timestamp": 1635327070984,
     "user": {
      "displayName": "Jh Ke",
      "photoUrl": "https://lh3.googleusercontent.com/a/default-user=s64",
      "userId": "01967339312869766379"
     },
     "user_tz": -480
    },
    "id": "niWZZ365JOMl"
   },
   "outputs": [],
   "source": [
    "# To achieve the Horizontal 100% Stacked Bar Chart we will need convert the numbers to a percentage\n",
    "total_size = grouped_df.groupby(['time'])[['size']].sum()\n",
    "total_size"
   ]
  },
  {
   "cell_type": "code",
   "execution_count": null,
   "metadata": {
    "executionInfo": {
     "elapsed": 13,
     "status": "aborted",
     "timestamp": 1635327070984,
     "user": {
      "displayName": "Jh Ke",
      "photoUrl": "https://lh3.googleusercontent.com/a/default-user=s64",
      "userId": "01967339312869766379"
     },
     "user_tz": -480
    },
    "id": "hF6X_vuiLBRo"
   },
   "outputs": [],
   "source": [
    "# swifter makes pandas apply() much faster in large datasets\n",
    "import swifter\n",
    "\n",
    "# reset index so that swifter can work correctly.\n",
    "time_df = grouped_df['time'].reset_index(drop=True)\n",
    "\n",
    "# We will use swifter to create the new column for us\n",
    "grouped_df['total'] = time_df.swifter.apply(lambda row: 463 if row == 'Dinner' else 164, axis = 1)\n",
    "\n",
    "grouped_df"
   ]
  },
  {
   "cell_type": "code",
   "execution_count": null,
   "metadata": {
    "executionInfo": {
     "elapsed": 14,
     "status": "aborted",
     "timestamp": 1635327070985,
     "user": {
      "displayName": "Jh Ke",
      "photoUrl": "https://lh3.googleusercontent.com/a/default-user=s64",
      "userId": "01967339312869766379"
     },
     "user_tz": -480
    },
    "id": "iSCIslTrTHJP"
   },
   "outputs": [],
   "source": [
    "# If we can create a column called total we can get the percentage easily by taking size/total*100\n",
    "grouped_df['percentage'] = grouped_df['size'] / grouped_df['total'] * 100\n",
    "grouped_df"
   ]
  },
  {
   "cell_type": "code",
   "execution_count": null,
   "metadata": {
    "executionInfo": {
     "elapsed": 14,
     "status": "aborted",
     "timestamp": 1635327070985,
     "user": {
      "displayName": "Jh Ke",
      "photoUrl": "https://lh3.googleusercontent.com/a/default-user=s64",
      "userId": "01967339312869766379"
     },
     "user_tz": -480
    },
    "id": "U_QGfJabTn9W"
   },
   "outputs": [],
   "source": [
    "# Plot the graph\n",
    "fig = px.bar(grouped_df, \n",
    "             x=\"percentage\", # Flip the order our x and y axis\n",
    "             y='time',\n",
    "             color=\"smoker\",\n",
    "             orientation='h',\n",
    "             barmode='relative', # make the bars horizontal\n",
    "             category_orders = {'time':[\"Dinner\", \"Lunch\"]}, # rearrange the order on the x-axis,\n",
    "             color_discrete_map = {'Yes':'lightsalmon', \"No\":'lightblue'}, # map the correct color\n",
    "             labels = {'size': 'Number of people'} # change the axis labels\n",
    "            )\n",
    "\n",
    "# Display the graph\n",
    "fig.show()"
   ]
  },
  {
   "cell_type": "markdown",
   "metadata": {
    "id": "pFxe50VPYWwo"
   },
   "source": [
    "### **Scenario #8: Horizontal 100% Stacked Bar Chart**\n",
    "\n",
    "\n",
    "For example, we want to compare the number of people that turns up over different `day` and separate them based on periods of the day (dinner vs lunch). We only want the data for Thur & Fri because only these 2 days have records of both dinner and lunch.\n"
   ]
  },
  {
   "cell_type": "code",
   "execution_count": null,
   "metadata": {
    "executionInfo": {
     "elapsed": 13,
     "status": "aborted",
     "timestamp": 1635327070985,
     "user": {
      "displayName": "Jh Ke",
      "photoUrl": "https://lh3.googleusercontent.com/a/default-user=s64",
      "userId": "01967339312869766379"
     },
     "user_tz": -480
    },
    "id": "mSvjuOCuYW_X"
   },
   "outputs": [],
   "source": [
    "tips_df.head(2)"
   ]
  },
  {
   "cell_type": "code",
   "execution_count": null,
   "metadata": {
    "executionInfo": {
     "elapsed": 14,
     "status": "aborted",
     "timestamp": 1635327070986,
     "user": {
      "displayName": "Jh Ke",
      "photoUrl": "https://lh3.googleusercontent.com/a/default-user=s64",
      "userId": "01967339312869766379"
     },
     "user_tz": -480
    },
    "id": "tigHomwdY4bG"
   },
   "outputs": [],
   "source": [
    "# Get the total number of people in each group\n",
    "grouped_df_day = tips_df.groupby(['time','day'])[['size']].sum().reset_index()\n",
    "grouped_df_day"
   ]
  },
  {
   "cell_type": "code",
   "execution_count": null,
   "metadata": {
    "executionInfo": {
     "elapsed": 14,
     "status": "aborted",
     "timestamp": 1635327070986,
     "user": {
      "displayName": "Jh Ke",
      "photoUrl": "https://lh3.googleusercontent.com/a/default-user=s64",
      "userId": "01967339312869766379"
     },
     "user_tz": -480
    },
    "id": "NdkPBqrmZbgH"
   },
   "outputs": [],
   "source": [
    "# Extract the days we want only\n",
    "days = ['Thur', 'Fri']\n",
    "grouped_df_day = grouped_df_day[grouped_df_day['day'].isin(days)].reset_index(drop=True) # reset_index so that swifter can work correctly\n",
    "\n",
    "\n",
    "# To achieve the Horizontal 100% Stacked Bar Chart we will need convert the numbers to a percentage\n",
    "total_size = grouped_df_day.groupby(['day'])[['size']].sum()\n",
    "\n",
    "# reset index so that swifter can work correctly.\n",
    "time_df = grouped_df_day['day'].reset_index(drop=True)\n",
    "time_df\n",
    "\n",
    "# We will use swifter to create the new column for us\n",
    "grouped_df_day['total'] = time_df.swifter.apply(lambda row: 152 if row == 'Thur' else 40, axis = 1)\n",
    "grouped_df_day"
   ]
  },
  {
   "cell_type": "code",
   "execution_count": null,
   "metadata": {
    "executionInfo": {
     "elapsed": 14,
     "status": "aborted",
     "timestamp": 1635327070986,
     "user": {
      "displayName": "Jh Ke",
      "photoUrl": "https://lh3.googleusercontent.com/a/default-user=s64",
      "userId": "01967339312869766379"
     },
     "user_tz": -480
    },
    "id": "dORsrYtKbKgE"
   },
   "outputs": [],
   "source": [
    "# If we can create a column called total we can get the percentage easily by taking size/total*100\n",
    "grouped_df_day['percentage'] = grouped_df_day['size'] / grouped_df_day['total'] * 100\n",
    "grouped_df_day"
   ]
  },
  {
   "cell_type": "code",
   "execution_count": null,
   "metadata": {
    "executionInfo": {
     "elapsed": 14,
     "status": "aborted",
     "timestamp": 1635327070986,
     "user": {
      "displayName": "Jh Ke",
      "photoUrl": "https://lh3.googleusercontent.com/a/default-user=s64",
      "userId": "01967339312869766379"
     },
     "user_tz": -480
    },
    "id": "2Rg4jP68bM4L"
   },
   "outputs": [],
   "source": [
    "# Plot the graph\n",
    "fig = px.bar(grouped_df_day, \n",
    "             x=\"percentage\", # Flip the order our x and y axis\n",
    "             y='day',\n",
    "             color=\"time\",\n",
    "             orientation='h',\n",
    "             barmode='relative'\n",
    "            )\n",
    "\n",
    "# Display the graph\n",
    "fig.show()"
   ]
  },
  {
   "cell_type": "markdown",
   "metadata": {
    "id": "-4gU-RsaUEYJ"
   },
   "source": [
    "**Your Task:**\n",
    "\n",
    "Do Horizontal 100% Stacked Bar Chart on the sex. This means that we want to the percentage difference in number of people separated by their sex instead of by whether they are smokers or not.\n",
    "\n",
    "To make this even more challenging, create the percentage column using the **`swifter.apply`** function - this means that we do not want to see a separate column called `total` in the final dataframe like the previous example.\n",
    "\n",
    "Check your solution against the suggested answer!"
   ]
  },
  {
   "cell_type": "code",
   "execution_count": null,
   "metadata": {
    "executionInfo": {
     "elapsed": 15,
     "status": "aborted",
     "timestamp": 1635327070987,
     "user": {
      "displayName": "Jh Ke",
      "photoUrl": "https://lh3.googleusercontent.com/a/default-user=s64",
      "userId": "01967339312869766379"
     },
     "user_tz": -480
    },
    "id": "g78fgaz3fkJA"
   },
   "outputs": [],
   "source": [
    "# Get the total number of people in each group\n",
    "grouped_df_sex = tips_df.groupby(['time','sex'])[['size']].sum().reset_index()\n",
    "grouped_df_sex"
   ]
  },
  {
   "cell_type": "code",
   "execution_count": null,
   "metadata": {
    "executionInfo": {
     "elapsed": 15,
     "status": "aborted",
     "timestamp": 1635327070987,
     "user": {
      "displayName": "Jh Ke",
      "photoUrl": "https://lh3.googleusercontent.com/a/default-user=s64",
      "userId": "01967339312869766379"
     },
     "user_tz": -480
    },
    "id": "wyqJEL_xfoYU"
   },
   "outputs": [],
   "source": [
    "total_size_by_sex = grouped_df_sex.groupby(['time'])[['size']].sum().reset_index()\n",
    "# # Check dataframe\n",
    "total_size_by_sex"
   ]
  },
  {
   "cell_type": "code",
   "execution_count": null,
   "metadata": {
    "executionInfo": {
     "elapsed": 15,
     "status": "aborted",
     "timestamp": 1635327070987,
     "user": {
      "displayName": "Jh Ke",
      "photoUrl": "https://lh3.googleusercontent.com/a/default-user=s64",
      "userId": "01967339312869766379"
     },
     "user_tz": -480
    },
    "id": "Lh0dq3LpAgv4"
   },
   "outputs": [],
   "source": [
    "### === Suggested Answer == ###\n",
    "\n",
    "# reset index so that swifter can work correctly.\n",
    "time_df = grouped_df_sex[['time','size']].reset_index(drop=True)\n",
    "# # Check dataframe\n",
    "# time_df\n",
    "\n",
    "# # We will use swifter to create the new column for us\n",
    "grouped_df_sex['percentage'] = time_df.swifter.apply(lambda row: row[1]/463*100 if row[0] == 'Dinner' else row[1]/164*100, axis = 1)\n",
    "grouped_df_sex\n"
   ]
  },
  {
   "cell_type": "code",
   "execution_count": null,
   "metadata": {
    "executionInfo": {
     "elapsed": 15,
     "status": "aborted",
     "timestamp": 1635327070987,
     "user": {
      "displayName": "Jh Ke",
      "photoUrl": "https://lh3.googleusercontent.com/a/default-user=s64",
      "userId": "01967339312869766379"
     },
     "user_tz": -480
    },
    "id": "TXM5FWfuYHGr"
   },
   "outputs": [],
   "source": [
    "# Plot the graph\n",
    "fig = px.bar(grouped_df_sex, \n",
    "             x=\"percentage\", # Flip the order our x and y axis\n",
    "             y='time',\n",
    "             color=\"sex\",\n",
    "             orientation='h',\n",
    "             barmode='relative',\n",
    "             category_orders = {'time':[\"Dinner\", \"Lunch\"]}, # rearrange the order on the x-axis,\n",
    "             color_discrete_map = {'Male':'lightsalmon', \"Female\":'lightblue'}, # map the correct color\n",
    "             labels = {'size': 'Number of people'} # change the axis labels\n",
    "            )\n",
    "\n",
    "# Display the graph\n",
    "fig.show()"
   ]
  },
  {
   "cell_type": "markdown",
   "metadata": {
    "id": "D9jz8ItBqzLc"
   },
   "source": [
    "## Box Plot\n",
    "\n",
    "Box plots give a statistical summary of the features plotted. \n",
    "\n",
    "The top and bottom lines represents the maximum and minimum values.\n",
    "\n",
    "The top line of the box represents the third quartile value, the middle line within the box represents the median and the bottom line of the box represents the first quartile value.\n",
    "\n",
    "The height of the box is known as the interquartile range. \n",
    "\n",
    "Any black dots on the plot represent outlier values. \n",
    "\n",
    "We can call it easily with the `px.box()` method. "
   ]
  },
  {
   "cell_type": "markdown",
   "metadata": {
    "id": "fDKEYNZztFbZ"
   },
   "source": [
    "### **Scenario #9:**\n",
    "\n",
    "Plot the box plot to visualize the distribution of `tips` for different time periods"
   ]
  },
  {
   "cell_type": "code",
   "execution_count": null,
   "metadata": {
    "executionInfo": {
     "elapsed": 15,
     "status": "aborted",
     "timestamp": 1635327070988,
     "user": {
      "displayName": "Jh Ke",
      "photoUrl": "https://lh3.googleusercontent.com/a/default-user=s64",
      "userId": "01967339312869766379"
     },
     "user_tz": -480
    },
    "id": "KsRyP6TVr9CJ"
   },
   "outputs": [],
   "source": [
    "tips_df"
   ]
  },
  {
   "cell_type": "code",
   "execution_count": null,
   "metadata": {
    "executionInfo": {
     "elapsed": 15,
     "status": "aborted",
     "timestamp": 1635327070988,
     "user": {
      "displayName": "Jh Ke",
      "photoUrl": "https://lh3.googleusercontent.com/a/default-user=s64",
      "userId": "01967339312869766379"
     },
     "user_tz": -480
    },
    "id": "C8a4wYJnfYc7"
   },
   "outputs": [],
   "source": [
    "# Box plot\n",
    "# dots are outliers\n",
    "# outliers are +- 1.5x of interquartile range (IQR)\n",
    "# IQR is difference between 1Quartile (25percentile) and 3Quartile (75percentile)\n",
    "fig = px.box(tips_df, \n",
    "             x=\"time\", \n",
    "             y=\"tip\",\n",
    "             color=\"time\")\n",
    "fig.show()"
   ]
  },
  {
   "cell_type": "markdown",
   "metadata": {
    "id": "-9Nd6mZ8uxrL"
   },
   "source": [
    "### **Scenario #10:**\n",
    "\n",
    "Plot the box plot to visualize the distribution of `total_bill` for different time periods"
   ]
  },
  {
   "cell_type": "code",
   "execution_count": null,
   "metadata": {
    "executionInfo": {
     "elapsed": 15,
     "status": "aborted",
     "timestamp": 1635327070988,
     "user": {
      "displayName": "Jh Ke",
      "photoUrl": "https://lh3.googleusercontent.com/a/default-user=s64",
      "userId": "01967339312869766379"
     },
     "user_tz": -480
    },
    "id": "cb7cUZzOf1Im"
   },
   "outputs": [],
   "source": [
    "# Box plot\n",
    "fig = px.box(tips_df, \n",
    "             x=\"time\", \n",
    "             y=\"total_bill\",\n",
    "             color=\"time\")\n",
    "fig.show()"
   ]
  },
  {
   "cell_type": "markdown",
   "metadata": {
    "id": "6jAWJBafS0Zc"
   },
   "source": [
    "## Color Selection\n",
    "\n",
    "Beyond the default colour palettes, we have a large variety of color palettes at our disposal. \n",
    "\n",
    "We can create a range of custom sequential or diverging palettes. \n",
    "\n",
    "Sequential Palettes have colors that move from lighter to darker, or from one to another.\n",
    "\n",
    "Diverging Palettes have colors that attract attention at both ends of the spectrum.\n",
    "\n",
    "The link to Plotly's color palettes is [here](https://plotly.com/python/builtin-colorscales/) and discrete colors is [here](https://plotly.com/python/discrete-color/).\n",
    "\n"
   ]
  }
 ],
 "metadata": {
  "colab": {
   "collapsed_sections": [],
   "name": "BDM 2-answers.ipynb",
   "provenance": []
  },
  "kernelspec": {
   "display_name": "Python 3 (ipykernel)",
   "language": "python",
   "name": "python3"
  },
  "language_info": {
   "codemirror_mode": {
    "name": "ipython",
    "version": 3
   },
   "file_extension": ".py",
   "mimetype": "text/x-python",
   "name": "python",
   "nbconvert_exporter": "python",
   "pygments_lexer": "ipython3",
   "version": "3.8.11"
  }
 },
 "nbformat": 4,
 "nbformat_minor": 1
}
